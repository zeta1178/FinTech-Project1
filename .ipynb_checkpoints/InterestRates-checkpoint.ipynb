{
 "cells": [
  {
   "cell_type": "code",
   "execution_count": 11,
   "id": "b2ce1279-b79b-409b-9519-0edf3d124213",
   "metadata": {},
   "outputs": [
    {
     "data": {
      "text/html": [
       "<div>\n",
       "<style scoped>\n",
       "    .dataframe tbody tr th:only-of-type {\n",
       "        vertical-align: middle;\n",
       "    }\n",
       "\n",
       "    .dataframe tbody tr th {\n",
       "        vertical-align: top;\n",
       "    }\n",
       "\n",
       "    .dataframe thead th {\n",
       "        text-align: right;\n",
       "    }\n",
       "</style>\n",
       "<table border=\"1\" class=\"dataframe\">\n",
       "  <thead>\n",
       "    <tr style=\"text-align: right;\">\n",
       "      <th></th>\n",
       "      <th>Date</th>\n",
       "      <th>20 YR</th>\n",
       "      <th>30 YR</th>\n",
       "      <th>Extrapolation Factor</th>\n",
       "      <th>8 WEEKS BANK DISCOUNT</th>\n",
       "      <th>COUPON EQUIVALENT</th>\n",
       "      <th>52 WEEKS BANK DISCOUNT</th>\n",
       "      <th>COUPON EQUIVALENT.1</th>\n",
       "      <th>1 Mo</th>\n",
       "      <th>2 Mo</th>\n",
       "      <th>3 Mo</th>\n",
       "      <th>6 Mo</th>\n",
       "      <th>1 Yr</th>\n",
       "      <th>2 Yr</th>\n",
       "      <th>3 Yr</th>\n",
       "      <th>5 Yr</th>\n",
       "      <th>7 Yr</th>\n",
       "      <th>10 Yr</th>\n",
       "      <th>20 Yr</th>\n",
       "      <th>30 Yr</th>\n",
       "    </tr>\n",
       "  </thead>\n",
       "  <tbody>\n",
       "    <tr>\n",
       "      <th>0</th>\n",
       "      <td>01/03/2022</td>\n",
       "      <td>NaN</td>\n",
       "      <td>NaN</td>\n",
       "      <td>NaN</td>\n",
       "      <td>NaN</td>\n",
       "      <td>NaN</td>\n",
       "      <td>NaN</td>\n",
       "      <td>NaN</td>\n",
       "      <td>0.05</td>\n",
       "      <td>0.06</td>\n",
       "      <td>0.08</td>\n",
       "      <td>0.22</td>\n",
       "      <td>0.40</td>\n",
       "      <td>0.78</td>\n",
       "      <td>1.04</td>\n",
       "      <td>1.37</td>\n",
       "      <td>1.55</td>\n",
       "      <td>1.63</td>\n",
       "      <td>2.05</td>\n",
       "      <td>2.01</td>\n",
       "    </tr>\n",
       "    <tr>\n",
       "      <th>1</th>\n",
       "      <td>01/04/2022</td>\n",
       "      <td>NaN</td>\n",
       "      <td>NaN</td>\n",
       "      <td>NaN</td>\n",
       "      <td>NaN</td>\n",
       "      <td>NaN</td>\n",
       "      <td>NaN</td>\n",
       "      <td>NaN</td>\n",
       "      <td>0.06</td>\n",
       "      <td>0.05</td>\n",
       "      <td>0.08</td>\n",
       "      <td>0.22</td>\n",
       "      <td>0.38</td>\n",
       "      <td>0.77</td>\n",
       "      <td>1.02</td>\n",
       "      <td>1.37</td>\n",
       "      <td>1.57</td>\n",
       "      <td>1.66</td>\n",
       "      <td>2.10</td>\n",
       "      <td>2.07</td>\n",
       "    </tr>\n",
       "    <tr>\n",
       "      <th>2</th>\n",
       "      <td>01/05/2022</td>\n",
       "      <td>NaN</td>\n",
       "      <td>NaN</td>\n",
       "      <td>NaN</td>\n",
       "      <td>NaN</td>\n",
       "      <td>NaN</td>\n",
       "      <td>NaN</td>\n",
       "      <td>NaN</td>\n",
       "      <td>0.05</td>\n",
       "      <td>0.06</td>\n",
       "      <td>0.09</td>\n",
       "      <td>0.22</td>\n",
       "      <td>0.41</td>\n",
       "      <td>0.83</td>\n",
       "      <td>1.10</td>\n",
       "      <td>1.43</td>\n",
       "      <td>1.62</td>\n",
       "      <td>1.71</td>\n",
       "      <td>2.12</td>\n",
       "      <td>2.09</td>\n",
       "    </tr>\n",
       "    <tr>\n",
       "      <th>3</th>\n",
       "      <td>01/06/2022</td>\n",
       "      <td>NaN</td>\n",
       "      <td>NaN</td>\n",
       "      <td>NaN</td>\n",
       "      <td>NaN</td>\n",
       "      <td>NaN</td>\n",
       "      <td>NaN</td>\n",
       "      <td>NaN</td>\n",
       "      <td>0.04</td>\n",
       "      <td>0.05</td>\n",
       "      <td>0.10</td>\n",
       "      <td>0.23</td>\n",
       "      <td>0.45</td>\n",
       "      <td>0.88</td>\n",
       "      <td>1.15</td>\n",
       "      <td>1.47</td>\n",
       "      <td>1.66</td>\n",
       "      <td>1.73</td>\n",
       "      <td>2.12</td>\n",
       "      <td>2.09</td>\n",
       "    </tr>\n",
       "    <tr>\n",
       "      <th>4</th>\n",
       "      <td>01/07/2022</td>\n",
       "      <td>NaN</td>\n",
       "      <td>NaN</td>\n",
       "      <td>NaN</td>\n",
       "      <td>NaN</td>\n",
       "      <td>NaN</td>\n",
       "      <td>NaN</td>\n",
       "      <td>NaN</td>\n",
       "      <td>0.05</td>\n",
       "      <td>0.05</td>\n",
       "      <td>0.10</td>\n",
       "      <td>0.24</td>\n",
       "      <td>0.43</td>\n",
       "      <td>0.87</td>\n",
       "      <td>1.17</td>\n",
       "      <td>1.50</td>\n",
       "      <td>1.69</td>\n",
       "      <td>1.76</td>\n",
       "      <td>2.15</td>\n",
       "      <td>2.11</td>\n",
       "    </tr>\n",
       "  </tbody>\n",
       "</table>\n",
       "</div>"
      ],
      "text/plain": [
       "         Date  20 YR  30 YR  Extrapolation Factor  8 WEEKS BANK DISCOUNT  \\\n",
       "0  01/03/2022    NaN    NaN                   NaN                    NaN   \n",
       "1  01/04/2022    NaN    NaN                   NaN                    NaN   \n",
       "2  01/05/2022    NaN    NaN                   NaN                    NaN   \n",
       "3  01/06/2022    NaN    NaN                   NaN                    NaN   \n",
       "4  01/07/2022    NaN    NaN                   NaN                    NaN   \n",
       "\n",
       "   COUPON EQUIVALENT  52 WEEKS BANK DISCOUNT  COUPON EQUIVALENT.1  1 Mo  2 Mo  \\\n",
       "0                NaN                     NaN                  NaN  0.05  0.06   \n",
       "1                NaN                     NaN                  NaN  0.06  0.05   \n",
       "2                NaN                     NaN                  NaN  0.05  0.06   \n",
       "3                NaN                     NaN                  NaN  0.04  0.05   \n",
       "4                NaN                     NaN                  NaN  0.05  0.05   \n",
       "\n",
       "   3 Mo  6 Mo  1 Yr  2 Yr  3 Yr  5 Yr  7 Yr  10 Yr  20 Yr  30 Yr  \n",
       "0  0.08  0.22  0.40  0.78  1.04  1.37  1.55   1.63   2.05   2.01  \n",
       "1  0.08  0.22  0.38  0.77  1.02  1.37  1.57   1.66   2.10   2.07  \n",
       "2  0.09  0.22  0.41  0.83  1.10  1.43  1.62   1.71   2.12   2.09  \n",
       "3  0.10  0.23  0.45  0.88  1.15  1.47  1.66   1.73   2.12   2.09  \n",
       "4  0.10  0.24  0.43  0.87  1.17  1.50  1.69   1.76   2.15   2.11  "
      ]
     },
     "execution_count": 11,
     "metadata": {},
     "output_type": "execute_result"
    }
   ],
   "source": [
    "import pandas as pd\n",
    "year = 2022\n",
    "url = f\"https://home.treasury.gov/resource-center/data-chart-center/interest-rates/TextView?type=daily_treasury_yield_curve&field_tdr_date_value={year}\"\n",
    "table_list = pd.read_html(url)\n",
    "df = table_list[0]\n",
    "df.head()"
   ]
  },
  {
   "cell_type": "code",
   "execution_count": 12,
   "id": "f7185189-6991-4b8b-bde3-d18cdc6203bb",
   "metadata": {},
   "outputs": [
    {
     "data": {
      "text/plain": [
       "Index(['Date', '20 YR', '30 YR', 'Extrapolation Factor',\n",
       "       '8 WEEKS BANK DISCOUNT', 'COUPON EQUIVALENT', '52 WEEKS BANK DISCOUNT',\n",
       "       'COUPON EQUIVALENT.1', '1 Mo', '2 Mo', '3 Mo', '6 Mo', '1 Yr', '2 Yr',\n",
       "       '3 Yr', '5 Yr', '7 Yr', '10 Yr', '20 Yr', '30 Yr'],\n",
       "      dtype='object')"
      ]
     },
     "execution_count": 12,
     "metadata": {},
     "output_type": "execute_result"
    }
   ],
   "source": [
    "df.columns"
   ]
  },
  {
   "cell_type": "code",
   "execution_count": 13,
   "id": "b0012c00-b27a-4742-b05c-0a00a9b8832c",
   "metadata": {},
   "outputs": [],
   "source": [
    "df['Date'] = pd.to_datetime(df['Date'])\n",
    "df = df.drop(['20 YR', '30 YR', 'Extrapolation Factor',\n",
    "       '8 WEEKS BANK DISCOUNT', 'COUPON EQUIVALENT', '52 WEEKS BANK DISCOUNT',\n",
    "       'COUPON EQUIVALENT.1'],axis=1).set_index('Date')"
   ]
  },
  {
   "cell_type": "code",
   "execution_count": 14,
   "id": "f0a7b6ac-0fe3-402c-bd24-c2ff614a22bb",
   "metadata": {},
   "outputs": [
    {
     "data": {
      "text/html": [
       "<div>\n",
       "<style scoped>\n",
       "    .dataframe tbody tr th:only-of-type {\n",
       "        vertical-align: middle;\n",
       "    }\n",
       "\n",
       "    .dataframe tbody tr th {\n",
       "        vertical-align: top;\n",
       "    }\n",
       "\n",
       "    .dataframe thead th {\n",
       "        text-align: right;\n",
       "    }\n",
       "</style>\n",
       "<table border=\"1\" class=\"dataframe\">\n",
       "  <thead>\n",
       "    <tr style=\"text-align: right;\">\n",
       "      <th></th>\n",
       "      <th>1 Mo</th>\n",
       "      <th>2 Mo</th>\n",
       "      <th>3 Mo</th>\n",
       "      <th>6 Mo</th>\n",
       "      <th>1 Yr</th>\n",
       "      <th>2 Yr</th>\n",
       "      <th>3 Yr</th>\n",
       "      <th>5 Yr</th>\n",
       "      <th>7 Yr</th>\n",
       "      <th>10 Yr</th>\n",
       "      <th>20 Yr</th>\n",
       "      <th>30 Yr</th>\n",
       "    </tr>\n",
       "    <tr>\n",
       "      <th>Date</th>\n",
       "      <th></th>\n",
       "      <th></th>\n",
       "      <th></th>\n",
       "      <th></th>\n",
       "      <th></th>\n",
       "      <th></th>\n",
       "      <th></th>\n",
       "      <th></th>\n",
       "      <th></th>\n",
       "      <th></th>\n",
       "      <th></th>\n",
       "      <th></th>\n",
       "    </tr>\n",
       "  </thead>\n",
       "  <tbody>\n",
       "    <tr>\n",
       "      <th>2022-01-03</th>\n",
       "      <td>0.05</td>\n",
       "      <td>0.06</td>\n",
       "      <td>0.08</td>\n",
       "      <td>0.22</td>\n",
       "      <td>0.40</td>\n",
       "      <td>0.78</td>\n",
       "      <td>1.04</td>\n",
       "      <td>1.37</td>\n",
       "      <td>1.55</td>\n",
       "      <td>1.63</td>\n",
       "      <td>2.05</td>\n",
       "      <td>2.01</td>\n",
       "    </tr>\n",
       "    <tr>\n",
       "      <th>2022-01-04</th>\n",
       "      <td>0.06</td>\n",
       "      <td>0.05</td>\n",
       "      <td>0.08</td>\n",
       "      <td>0.22</td>\n",
       "      <td>0.38</td>\n",
       "      <td>0.77</td>\n",
       "      <td>1.02</td>\n",
       "      <td>1.37</td>\n",
       "      <td>1.57</td>\n",
       "      <td>1.66</td>\n",
       "      <td>2.10</td>\n",
       "      <td>2.07</td>\n",
       "    </tr>\n",
       "    <tr>\n",
       "      <th>2022-01-05</th>\n",
       "      <td>0.05</td>\n",
       "      <td>0.06</td>\n",
       "      <td>0.09</td>\n",
       "      <td>0.22</td>\n",
       "      <td>0.41</td>\n",
       "      <td>0.83</td>\n",
       "      <td>1.10</td>\n",
       "      <td>1.43</td>\n",
       "      <td>1.62</td>\n",
       "      <td>1.71</td>\n",
       "      <td>2.12</td>\n",
       "      <td>2.09</td>\n",
       "    </tr>\n",
       "    <tr>\n",
       "      <th>2022-01-06</th>\n",
       "      <td>0.04</td>\n",
       "      <td>0.05</td>\n",
       "      <td>0.10</td>\n",
       "      <td>0.23</td>\n",
       "      <td>0.45</td>\n",
       "      <td>0.88</td>\n",
       "      <td>1.15</td>\n",
       "      <td>1.47</td>\n",
       "      <td>1.66</td>\n",
       "      <td>1.73</td>\n",
       "      <td>2.12</td>\n",
       "      <td>2.09</td>\n",
       "    </tr>\n",
       "    <tr>\n",
       "      <th>2022-01-07</th>\n",
       "      <td>0.05</td>\n",
       "      <td>0.05</td>\n",
       "      <td>0.10</td>\n",
       "      <td>0.24</td>\n",
       "      <td>0.43</td>\n",
       "      <td>0.87</td>\n",
       "      <td>1.17</td>\n",
       "      <td>1.50</td>\n",
       "      <td>1.69</td>\n",
       "      <td>1.76</td>\n",
       "      <td>2.15</td>\n",
       "      <td>2.11</td>\n",
       "    </tr>\n",
       "    <tr>\n",
       "      <th>...</th>\n",
       "      <td>...</td>\n",
       "      <td>...</td>\n",
       "      <td>...</td>\n",
       "      <td>...</td>\n",
       "      <td>...</td>\n",
       "      <td>...</td>\n",
       "      <td>...</td>\n",
       "      <td>...</td>\n",
       "      <td>...</td>\n",
       "      <td>...</td>\n",
       "      <td>...</td>\n",
       "      <td>...</td>\n",
       "    </tr>\n",
       "    <tr>\n",
       "      <th>2022-07-21</th>\n",
       "      <td>2.15</td>\n",
       "      <td>2.30</td>\n",
       "      <td>2.48</td>\n",
       "      <td>3.00</td>\n",
       "      <td>3.11</td>\n",
       "      <td>3.10</td>\n",
       "      <td>3.07</td>\n",
       "      <td>3.00</td>\n",
       "      <td>2.99</td>\n",
       "      <td>2.91</td>\n",
       "      <td>3.33</td>\n",
       "      <td>3.08</td>\n",
       "    </tr>\n",
       "    <tr>\n",
       "      <th>2022-07-22</th>\n",
       "      <td>2.15</td>\n",
       "      <td>2.29</td>\n",
       "      <td>2.49</td>\n",
       "      <td>2.97</td>\n",
       "      <td>3.01</td>\n",
       "      <td>2.98</td>\n",
       "      <td>2.93</td>\n",
       "      <td>2.87</td>\n",
       "      <td>2.85</td>\n",
       "      <td>2.77</td>\n",
       "      <td>3.23</td>\n",
       "      <td>3.00</td>\n",
       "    </tr>\n",
       "    <tr>\n",
       "      <th>2022-07-25</th>\n",
       "      <td>2.14</td>\n",
       "      <td>2.31</td>\n",
       "      <td>2.62</td>\n",
       "      <td>3.06</td>\n",
       "      <td>3.07</td>\n",
       "      <td>3.00</td>\n",
       "      <td>2.98</td>\n",
       "      <td>2.89</td>\n",
       "      <td>2.89</td>\n",
       "      <td>2.81</td>\n",
       "      <td>3.28</td>\n",
       "      <td>3.04</td>\n",
       "    </tr>\n",
       "    <tr>\n",
       "      <th>2022-07-26</th>\n",
       "      <td>2.17</td>\n",
       "      <td>2.35</td>\n",
       "      <td>2.55</td>\n",
       "      <td>3.01</td>\n",
       "      <td>3.06</td>\n",
       "      <td>3.02</td>\n",
       "      <td>3.01</td>\n",
       "      <td>2.89</td>\n",
       "      <td>2.88</td>\n",
       "      <td>2.81</td>\n",
       "      <td>3.27</td>\n",
       "      <td>3.03</td>\n",
       "    </tr>\n",
       "    <tr>\n",
       "      <th>2022-07-27</th>\n",
       "      <td>2.14</td>\n",
       "      <td>2.30</td>\n",
       "      <td>2.44</td>\n",
       "      <td>2.93</td>\n",
       "      <td>3.00</td>\n",
       "      <td>2.96</td>\n",
       "      <td>2.93</td>\n",
       "      <td>2.82</td>\n",
       "      <td>2.83</td>\n",
       "      <td>2.78</td>\n",
       "      <td>3.26</td>\n",
       "      <td>3.03</td>\n",
       "    </tr>\n",
       "  </tbody>\n",
       "</table>\n",
       "<p>142 rows × 12 columns</p>\n",
       "</div>"
      ],
      "text/plain": [
       "            1 Mo  2 Mo  3 Mo  6 Mo  1 Yr  2 Yr  3 Yr  5 Yr  7 Yr  10 Yr  \\\n",
       "Date                                                                      \n",
       "2022-01-03  0.05  0.06  0.08  0.22  0.40  0.78  1.04  1.37  1.55   1.63   \n",
       "2022-01-04  0.06  0.05  0.08  0.22  0.38  0.77  1.02  1.37  1.57   1.66   \n",
       "2022-01-05  0.05  0.06  0.09  0.22  0.41  0.83  1.10  1.43  1.62   1.71   \n",
       "2022-01-06  0.04  0.05  0.10  0.23  0.45  0.88  1.15  1.47  1.66   1.73   \n",
       "2022-01-07  0.05  0.05  0.10  0.24  0.43  0.87  1.17  1.50  1.69   1.76   \n",
       "...          ...   ...   ...   ...   ...   ...   ...   ...   ...    ...   \n",
       "2022-07-21  2.15  2.30  2.48  3.00  3.11  3.10  3.07  3.00  2.99   2.91   \n",
       "2022-07-22  2.15  2.29  2.49  2.97  3.01  2.98  2.93  2.87  2.85   2.77   \n",
       "2022-07-25  2.14  2.31  2.62  3.06  3.07  3.00  2.98  2.89  2.89   2.81   \n",
       "2022-07-26  2.17  2.35  2.55  3.01  3.06  3.02  3.01  2.89  2.88   2.81   \n",
       "2022-07-27  2.14  2.30  2.44  2.93  3.00  2.96  2.93  2.82  2.83   2.78   \n",
       "\n",
       "            20 Yr  30 Yr  \n",
       "Date                      \n",
       "2022-01-03   2.05   2.01  \n",
       "2022-01-04   2.10   2.07  \n",
       "2022-01-05   2.12   2.09  \n",
       "2022-01-06   2.12   2.09  \n",
       "2022-01-07   2.15   2.11  \n",
       "...           ...    ...  \n",
       "2022-07-21   3.33   3.08  \n",
       "2022-07-22   3.23   3.00  \n",
       "2022-07-25   3.28   3.04  \n",
       "2022-07-26   3.27   3.03  \n",
       "2022-07-27   3.26   3.03  \n",
       "\n",
       "[142 rows x 12 columns]"
      ]
     },
     "execution_count": 14,
     "metadata": {},
     "output_type": "execute_result"
    }
   ],
   "source": [
    "df"
   ]
  },
  {
   "cell_type": "code",
   "execution_count": 15,
   "id": "0ad0655c-b207-4e0e-b2a8-05e14f1a2fdc",
   "metadata": {},
   "outputs": [],
   "source": [
    "def clean_df(df):\n",
    "    df['Date'] = pd.to_datetime(df['Date'])\n",
    "    df = df.set_index('Date', inplace=True)\n",
    "    df = df.drop(['20 YR', '30 YR', 'Extrapolation Factor',\n",
    "       '8 WEEKS BANK DISCOUNT', 'COUPON EQUIVALENT', '52 WEEKS BANK DISCOUNT',\n",
    "       'COUPON EQUIVALENT.1','2 Mo'],axis=1)\n",
    "    return df"
   ]
  },
  {
   "cell_type": "code",
   "execution_count": 16,
   "id": "a91d2d43-0ab8-4c88-974e-1395943525e6",
   "metadata": {},
   "outputs": [
    {
     "ename": "KeyError",
     "evalue": "'Date'",
     "output_type": "error",
     "traceback": [
      "\u001b[0;31m---------------------------------------------------------------------------\u001b[0m",
      "\u001b[0;31mKeyError\u001b[0m                                  Traceback (most recent call last)",
      "File \u001b[0;32m~/pyenv/lib/python3.10/site-packages/pandas/core/indexes/base.py:3621\u001b[0m, in \u001b[0;36mIndex.get_loc\u001b[0;34m(self, key, method, tolerance)\u001b[0m\n\u001b[1;32m   3620\u001b[0m \u001b[38;5;28;01mtry\u001b[39;00m:\n\u001b[0;32m-> 3621\u001b[0m     \u001b[38;5;28;01mreturn\u001b[39;00m \u001b[38;5;28;43mself\u001b[39;49m\u001b[38;5;241;43m.\u001b[39;49m\u001b[43m_engine\u001b[49m\u001b[38;5;241;43m.\u001b[39;49m\u001b[43mget_loc\u001b[49m\u001b[43m(\u001b[49m\u001b[43mcasted_key\u001b[49m\u001b[43m)\u001b[49m\n\u001b[1;32m   3622\u001b[0m \u001b[38;5;28;01mexcept\u001b[39;00m \u001b[38;5;167;01mKeyError\u001b[39;00m \u001b[38;5;28;01mas\u001b[39;00m err:\n",
      "File \u001b[0;32m~/pyenv/lib/python3.10/site-packages/pandas/_libs/index.pyx:136\u001b[0m, in \u001b[0;36mpandas._libs.index.IndexEngine.get_loc\u001b[0;34m()\u001b[0m\n",
      "File \u001b[0;32m~/pyenv/lib/python3.10/site-packages/pandas/_libs/index.pyx:163\u001b[0m, in \u001b[0;36mpandas._libs.index.IndexEngine.get_loc\u001b[0;34m()\u001b[0m\n",
      "File \u001b[0;32mpandas/_libs/hashtable_class_helper.pxi:5198\u001b[0m, in \u001b[0;36mpandas._libs.hashtable.PyObjectHashTable.get_item\u001b[0;34m()\u001b[0m\n",
      "File \u001b[0;32mpandas/_libs/hashtable_class_helper.pxi:5206\u001b[0m, in \u001b[0;36mpandas._libs.hashtable.PyObjectHashTable.get_item\u001b[0;34m()\u001b[0m\n",
      "\u001b[0;31mKeyError\u001b[0m: 'Date'",
      "\nThe above exception was the direct cause of the following exception:\n",
      "\u001b[0;31mKeyError\u001b[0m                                  Traceback (most recent call last)",
      "Input \u001b[0;32mIn [16]\u001b[0m, in \u001b[0;36m<cell line: 1>\u001b[0;34m()\u001b[0m\n\u001b[0;32m----> 1\u001b[0m df \u001b[38;5;241m=\u001b[39m \u001b[43mclean_df\u001b[49m\u001b[43m(\u001b[49m\u001b[43mdf\u001b[49m\u001b[43m)\u001b[49m\n\u001b[1;32m      2\u001b[0m df\n",
      "Input \u001b[0;32mIn [15]\u001b[0m, in \u001b[0;36mclean_df\u001b[0;34m(df)\u001b[0m\n\u001b[1;32m      1\u001b[0m \u001b[38;5;28;01mdef\u001b[39;00m \u001b[38;5;21mclean_df\u001b[39m(df):\n\u001b[0;32m----> 2\u001b[0m     df[\u001b[38;5;124m'\u001b[39m\u001b[38;5;124mDate\u001b[39m\u001b[38;5;124m'\u001b[39m] \u001b[38;5;241m=\u001b[39m pd\u001b[38;5;241m.\u001b[39mto_datetime(\u001b[43mdf\u001b[49m\u001b[43m[\u001b[49m\u001b[38;5;124;43m'\u001b[39;49m\u001b[38;5;124;43mDate\u001b[39;49m\u001b[38;5;124;43m'\u001b[39;49m\u001b[43m]\u001b[49m)\n\u001b[1;32m      3\u001b[0m     df \u001b[38;5;241m=\u001b[39m df\u001b[38;5;241m.\u001b[39mset_index(\u001b[38;5;124m'\u001b[39m\u001b[38;5;124mDate\u001b[39m\u001b[38;5;124m'\u001b[39m, inplace\u001b[38;5;241m=\u001b[39m\u001b[38;5;28;01mTrue\u001b[39;00m)\n\u001b[1;32m      4\u001b[0m     df \u001b[38;5;241m=\u001b[39m df\u001b[38;5;241m.\u001b[39mdrop([\u001b[38;5;124m'\u001b[39m\u001b[38;5;124m20 YR\u001b[39m\u001b[38;5;124m'\u001b[39m, \u001b[38;5;124m'\u001b[39m\u001b[38;5;124m30 YR\u001b[39m\u001b[38;5;124m'\u001b[39m, \u001b[38;5;124m'\u001b[39m\u001b[38;5;124mExtrapolation Factor\u001b[39m\u001b[38;5;124m'\u001b[39m,\n\u001b[1;32m      5\u001b[0m        \u001b[38;5;124m'\u001b[39m\u001b[38;5;124m8 WEEKS BANK DISCOUNT\u001b[39m\u001b[38;5;124m'\u001b[39m, \u001b[38;5;124m'\u001b[39m\u001b[38;5;124mCOUPON EQUIVALENT\u001b[39m\u001b[38;5;124m'\u001b[39m, \u001b[38;5;124m'\u001b[39m\u001b[38;5;124m52 WEEKS BANK DISCOUNT\u001b[39m\u001b[38;5;124m'\u001b[39m,\n\u001b[1;32m      6\u001b[0m        \u001b[38;5;124m'\u001b[39m\u001b[38;5;124mCOUPON EQUIVALENT.1\u001b[39m\u001b[38;5;124m'\u001b[39m,\u001b[38;5;124m'\u001b[39m\u001b[38;5;124m2 Mo\u001b[39m\u001b[38;5;124m'\u001b[39m],axis\u001b[38;5;241m=\u001b[39m\u001b[38;5;241m1\u001b[39m)\n",
      "File \u001b[0;32m~/pyenv/lib/python3.10/site-packages/pandas/core/frame.py:3505\u001b[0m, in \u001b[0;36mDataFrame.__getitem__\u001b[0;34m(self, key)\u001b[0m\n\u001b[1;32m   3503\u001b[0m \u001b[38;5;28;01mif\u001b[39;00m \u001b[38;5;28mself\u001b[39m\u001b[38;5;241m.\u001b[39mcolumns\u001b[38;5;241m.\u001b[39mnlevels \u001b[38;5;241m>\u001b[39m \u001b[38;5;241m1\u001b[39m:\n\u001b[1;32m   3504\u001b[0m     \u001b[38;5;28;01mreturn\u001b[39;00m \u001b[38;5;28mself\u001b[39m\u001b[38;5;241m.\u001b[39m_getitem_multilevel(key)\n\u001b[0;32m-> 3505\u001b[0m indexer \u001b[38;5;241m=\u001b[39m \u001b[38;5;28;43mself\u001b[39;49m\u001b[38;5;241;43m.\u001b[39;49m\u001b[43mcolumns\u001b[49m\u001b[38;5;241;43m.\u001b[39;49m\u001b[43mget_loc\u001b[49m\u001b[43m(\u001b[49m\u001b[43mkey\u001b[49m\u001b[43m)\u001b[49m\n\u001b[1;32m   3506\u001b[0m \u001b[38;5;28;01mif\u001b[39;00m is_integer(indexer):\n\u001b[1;32m   3507\u001b[0m     indexer \u001b[38;5;241m=\u001b[39m [indexer]\n",
      "File \u001b[0;32m~/pyenv/lib/python3.10/site-packages/pandas/core/indexes/base.py:3623\u001b[0m, in \u001b[0;36mIndex.get_loc\u001b[0;34m(self, key, method, tolerance)\u001b[0m\n\u001b[1;32m   3621\u001b[0m     \u001b[38;5;28;01mreturn\u001b[39;00m \u001b[38;5;28mself\u001b[39m\u001b[38;5;241m.\u001b[39m_engine\u001b[38;5;241m.\u001b[39mget_loc(casted_key)\n\u001b[1;32m   3622\u001b[0m \u001b[38;5;28;01mexcept\u001b[39;00m \u001b[38;5;167;01mKeyError\u001b[39;00m \u001b[38;5;28;01mas\u001b[39;00m err:\n\u001b[0;32m-> 3623\u001b[0m     \u001b[38;5;28;01mraise\u001b[39;00m \u001b[38;5;167;01mKeyError\u001b[39;00m(key) \u001b[38;5;28;01mfrom\u001b[39;00m \u001b[38;5;21;01merr\u001b[39;00m\n\u001b[1;32m   3624\u001b[0m \u001b[38;5;28;01mexcept\u001b[39;00m \u001b[38;5;167;01mTypeError\u001b[39;00m:\n\u001b[1;32m   3625\u001b[0m     \u001b[38;5;66;03m# If we have a listlike key, _check_indexing_error will raise\u001b[39;00m\n\u001b[1;32m   3626\u001b[0m     \u001b[38;5;66;03m#  InvalidIndexError. Otherwise we fall through and re-raise\u001b[39;00m\n\u001b[1;32m   3627\u001b[0m     \u001b[38;5;66;03m#  the TypeError.\u001b[39;00m\n\u001b[1;32m   3628\u001b[0m     \u001b[38;5;28mself\u001b[39m\u001b[38;5;241m.\u001b[39m_check_indexing_error(key)\n",
      "\u001b[0;31mKeyError\u001b[0m: 'Date'"
     ]
    }
   ],
   "source": [
    "df = clean_df(df)\n",
    "df"
   ]
  },
  {
   "cell_type": "code",
   "execution_count": 17,
   "id": "eddef855-0ea8-424d-8677-dd7d06808757",
   "metadata": {},
   "outputs": [],
   "source": [
    "import seaborn as sns"
   ]
  },
  {
   "cell_type": "code",
   "execution_count": 18,
   "id": "1577e5d4-9b2b-4b98-8f47-ec4253c7d5ca",
   "metadata": {},
   "outputs": [
    {
     "data": {
      "text/plain": [
       "<AxesSubplot:ylabel='Date'>"
      ]
     },
     "execution_count": 18,
     "metadata": {},
     "output_type": "execute_result"
    },
    {
     "data": {
      "image/png": "[encoded data removed]",
      "text/plain": [
       "<Figure size 432x288 with 2 Axes>"
      ]
     },
     "metadata": {
      "needs_background": "light"
     },
     "output_type": "display_data"
    }
   ],
   "source": [
    "sns.heatmap(df)"
   ]
  },
  {
   "cell_type": "code",
   "execution_count": 19,
   "id": "6793ea8d-e44b-4e43-b271-1f8c38b8e137",
   "metadata": {},
   "outputs": [
    {
     "ename": "AttributeError",
     "evalue": "'NoneType' object has no attribute 'drop'",
     "output_type": "error",
     "traceback": [
      "\u001b[0;31m---------------------------------------------------------------------------\u001b[0m",
      "\u001b[0;31mAttributeError\u001b[0m                            Traceback (most recent call last)",
      "Input \u001b[0;32mIn [19]\u001b[0m, in \u001b[0;36m<cell line: 1>\u001b[0;34m()\u001b[0m\n\u001b[1;32m      2\u001b[0m url \u001b[38;5;241m=\u001b[39m \u001b[38;5;124mf\u001b[39m\u001b[38;5;124m\"\u001b[39m\u001b[38;5;124mhttps://home.treasury.gov/resource-center/data-chart-center/interest-rates/TextView?type=daily_treasury_yield_curve&field_tdr_date_value=\u001b[39m\u001b[38;5;132;01m{\u001b[39;00myear\u001b[38;5;132;01m}\u001b[39;00m\u001b[38;5;124m\"\u001b[39m\n\u001b[1;32m      3\u001b[0m table_list \u001b[38;5;241m=\u001b[39m pd\u001b[38;5;241m.\u001b[39mread_html(url)\n\u001b[0;32m----> 4\u001b[0m df \u001b[38;5;241m=\u001b[39m pd\u001b[38;5;241m.\u001b[39mconcat([df,\u001b[43mclean_df\u001b[49m\u001b[43m(\u001b[49m\u001b[43mtable_list\u001b[49m\u001b[43m[\u001b[49m\u001b[38;5;241;43m0\u001b[39;49m\u001b[43m]\u001b[49m\u001b[43m)\u001b[49m])\n",
      "Input \u001b[0;32mIn [15]\u001b[0m, in \u001b[0;36mclean_df\u001b[0;34m(df)\u001b[0m\n\u001b[1;32m      2\u001b[0m df[\u001b[38;5;124m'\u001b[39m\u001b[38;5;124mDate\u001b[39m\u001b[38;5;124m'\u001b[39m] \u001b[38;5;241m=\u001b[39m pd\u001b[38;5;241m.\u001b[39mto_datetime(df[\u001b[38;5;124m'\u001b[39m\u001b[38;5;124mDate\u001b[39m\u001b[38;5;124m'\u001b[39m])\n\u001b[1;32m      3\u001b[0m df \u001b[38;5;241m=\u001b[39m df\u001b[38;5;241m.\u001b[39mset_index(\u001b[38;5;124m'\u001b[39m\u001b[38;5;124mDate\u001b[39m\u001b[38;5;124m'\u001b[39m, inplace\u001b[38;5;241m=\u001b[39m\u001b[38;5;28;01mTrue\u001b[39;00m)\n\u001b[0;32m----> 4\u001b[0m df \u001b[38;5;241m=\u001b[39m \u001b[43mdf\u001b[49m\u001b[38;5;241;43m.\u001b[39;49m\u001b[43mdrop\u001b[49m([\u001b[38;5;124m'\u001b[39m\u001b[38;5;124m20 YR\u001b[39m\u001b[38;5;124m'\u001b[39m, \u001b[38;5;124m'\u001b[39m\u001b[38;5;124m30 YR\u001b[39m\u001b[38;5;124m'\u001b[39m, \u001b[38;5;124m'\u001b[39m\u001b[38;5;124mExtrapolation Factor\u001b[39m\u001b[38;5;124m'\u001b[39m,\n\u001b[1;32m      5\u001b[0m    \u001b[38;5;124m'\u001b[39m\u001b[38;5;124m8 WEEKS BANK DISCOUNT\u001b[39m\u001b[38;5;124m'\u001b[39m, \u001b[38;5;124m'\u001b[39m\u001b[38;5;124mCOUPON EQUIVALENT\u001b[39m\u001b[38;5;124m'\u001b[39m, \u001b[38;5;124m'\u001b[39m\u001b[38;5;124m52 WEEKS BANK DISCOUNT\u001b[39m\u001b[38;5;124m'\u001b[39m,\n\u001b[1;32m      6\u001b[0m    \u001b[38;5;124m'\u001b[39m\u001b[38;5;124mCOUPON EQUIVALENT.1\u001b[39m\u001b[38;5;124m'\u001b[39m,\u001b[38;5;124m'\u001b[39m\u001b[38;5;124m2 Mo\u001b[39m\u001b[38;5;124m'\u001b[39m],axis\u001b[38;5;241m=\u001b[39m\u001b[38;5;241m1\u001b[39m)\n\u001b[1;32m      7\u001b[0m \u001b[38;5;28;01mreturn\u001b[39;00m df\n",
      "\u001b[0;31mAttributeError\u001b[0m: 'NoneType' object has no attribute 'drop'"
     ]
    }
   ],
   "source": [
    "for year in range(2010,2021):\n",
    "    url = f\"https://home.treasury.gov/resource-center/data-chart-center/interest-rates/TextView?type=daily_treasury_yield_curve&field_tdr_date_value={year}\"\n",
    "    table_list = pd.read_html(url)\n",
    "    df = pd.concat([df,clean_df(table_list[0])])"
   ]
  },
  {
   "cell_type": "code",
   "execution_count": 20,
   "id": "6bb3bcb2-8488-4bb9-937c-4fbb1fddcf74",
   "metadata": {},
   "outputs": [
    {
     "data": {
      "text/html": [
       "<div>\n",
       "<style scoped>\n",
       "    .dataframe tbody tr th:only-of-type {\n",
       "        vertical-align: middle;\n",
       "    }\n",
       "\n",
       "    .dataframe tbody tr th {\n",
       "        vertical-align: top;\n",
       "    }\n",
       "\n",
       "    .dataframe thead th {\n",
       "        text-align: right;\n",
       "    }\n",
       "</style>\n",
       "<table border=\"1\" class=\"dataframe\">\n",
       "  <thead>\n",
       "    <tr style=\"text-align: right;\">\n",
       "      <th></th>\n",
       "      <th>1 Mo</th>\n",
       "      <th>2 Mo</th>\n",
       "      <th>3 Mo</th>\n",
       "      <th>6 Mo</th>\n",
       "      <th>1 Yr</th>\n",
       "      <th>2 Yr</th>\n",
       "      <th>3 Yr</th>\n",
       "      <th>5 Yr</th>\n",
       "      <th>7 Yr</th>\n",
       "      <th>10 Yr</th>\n",
       "      <th>20 Yr</th>\n",
       "      <th>30 Yr</th>\n",
       "    </tr>\n",
       "    <tr>\n",
       "      <th>Date</th>\n",
       "      <th></th>\n",
       "      <th></th>\n",
       "      <th></th>\n",
       "      <th></th>\n",
       "      <th></th>\n",
       "      <th></th>\n",
       "      <th></th>\n",
       "      <th></th>\n",
       "      <th></th>\n",
       "      <th></th>\n",
       "      <th></th>\n",
       "      <th></th>\n",
       "    </tr>\n",
       "  </thead>\n",
       "  <tbody>\n",
       "    <tr>\n",
       "      <th>2022-01-03</th>\n",
       "      <td>0.05</td>\n",
       "      <td>0.06</td>\n",
       "      <td>0.08</td>\n",
       "      <td>0.22</td>\n",
       "      <td>0.40</td>\n",
       "      <td>0.78</td>\n",
       "      <td>1.04</td>\n",
       "      <td>1.37</td>\n",
       "      <td>1.55</td>\n",
       "      <td>1.63</td>\n",
       "      <td>2.05</td>\n",
       "      <td>2.01</td>\n",
       "    </tr>\n",
       "    <tr>\n",
       "      <th>2022-01-04</th>\n",
       "      <td>0.06</td>\n",
       "      <td>0.05</td>\n",
       "      <td>0.08</td>\n",
       "      <td>0.22</td>\n",
       "      <td>0.38</td>\n",
       "      <td>0.77</td>\n",
       "      <td>1.02</td>\n",
       "      <td>1.37</td>\n",
       "      <td>1.57</td>\n",
       "      <td>1.66</td>\n",
       "      <td>2.10</td>\n",
       "      <td>2.07</td>\n",
       "    </tr>\n",
       "    <tr>\n",
       "      <th>2022-01-05</th>\n",
       "      <td>0.05</td>\n",
       "      <td>0.06</td>\n",
       "      <td>0.09</td>\n",
       "      <td>0.22</td>\n",
       "      <td>0.41</td>\n",
       "      <td>0.83</td>\n",
       "      <td>1.10</td>\n",
       "      <td>1.43</td>\n",
       "      <td>1.62</td>\n",
       "      <td>1.71</td>\n",
       "      <td>2.12</td>\n",
       "      <td>2.09</td>\n",
       "    </tr>\n",
       "    <tr>\n",
       "      <th>2022-01-06</th>\n",
       "      <td>0.04</td>\n",
       "      <td>0.05</td>\n",
       "      <td>0.10</td>\n",
       "      <td>0.23</td>\n",
       "      <td>0.45</td>\n",
       "      <td>0.88</td>\n",
       "      <td>1.15</td>\n",
       "      <td>1.47</td>\n",
       "      <td>1.66</td>\n",
       "      <td>1.73</td>\n",
       "      <td>2.12</td>\n",
       "      <td>2.09</td>\n",
       "    </tr>\n",
       "    <tr>\n",
       "      <th>2022-01-07</th>\n",
       "      <td>0.05</td>\n",
       "      <td>0.05</td>\n",
       "      <td>0.10</td>\n",
       "      <td>0.24</td>\n",
       "      <td>0.43</td>\n",
       "      <td>0.87</td>\n",
       "      <td>1.17</td>\n",
       "      <td>1.50</td>\n",
       "      <td>1.69</td>\n",
       "      <td>1.76</td>\n",
       "      <td>2.15</td>\n",
       "      <td>2.11</td>\n",
       "    </tr>\n",
       "    <tr>\n",
       "      <th>...</th>\n",
       "      <td>...</td>\n",
       "      <td>...</td>\n",
       "      <td>...</td>\n",
       "      <td>...</td>\n",
       "      <td>...</td>\n",
       "      <td>...</td>\n",
       "      <td>...</td>\n",
       "      <td>...</td>\n",
       "      <td>...</td>\n",
       "      <td>...</td>\n",
       "      <td>...</td>\n",
       "      <td>...</td>\n",
       "    </tr>\n",
       "    <tr>\n",
       "      <th>2022-07-21</th>\n",
       "      <td>2.15</td>\n",
       "      <td>2.30</td>\n",
       "      <td>2.48</td>\n",
       "      <td>3.00</td>\n",
       "      <td>3.11</td>\n",
       "      <td>3.10</td>\n",
       "      <td>3.07</td>\n",
       "      <td>3.00</td>\n",
       "      <td>2.99</td>\n",
       "      <td>2.91</td>\n",
       "      <td>3.33</td>\n",
       "      <td>3.08</td>\n",
       "    </tr>\n",
       "    <tr>\n",
       "      <th>2022-07-22</th>\n",
       "      <td>2.15</td>\n",
       "      <td>2.29</td>\n",
       "      <td>2.49</td>\n",
       "      <td>2.97</td>\n",
       "      <td>3.01</td>\n",
       "      <td>2.98</td>\n",
       "      <td>2.93</td>\n",
       "      <td>2.87</td>\n",
       "      <td>2.85</td>\n",
       "      <td>2.77</td>\n",
       "      <td>3.23</td>\n",
       "      <td>3.00</td>\n",
       "    </tr>\n",
       "    <tr>\n",
       "      <th>2022-07-25</th>\n",
       "      <td>2.14</td>\n",
       "      <td>2.31</td>\n",
       "      <td>2.62</td>\n",
       "      <td>3.06</td>\n",
       "      <td>3.07</td>\n",
       "      <td>3.00</td>\n",
       "      <td>2.98</td>\n",
       "      <td>2.89</td>\n",
       "      <td>2.89</td>\n",
       "      <td>2.81</td>\n",
       "      <td>3.28</td>\n",
       "      <td>3.04</td>\n",
       "    </tr>\n",
       "    <tr>\n",
       "      <th>2022-07-26</th>\n",
       "      <td>2.17</td>\n",
       "      <td>2.35</td>\n",
       "      <td>2.55</td>\n",
       "      <td>3.01</td>\n",
       "      <td>3.06</td>\n",
       "      <td>3.02</td>\n",
       "      <td>3.01</td>\n",
       "      <td>2.89</td>\n",
       "      <td>2.88</td>\n",
       "      <td>2.81</td>\n",
       "      <td>3.27</td>\n",
       "      <td>3.03</td>\n",
       "    </tr>\n",
       "    <tr>\n",
       "      <th>2022-07-27</th>\n",
       "      <td>2.14</td>\n",
       "      <td>2.30</td>\n",
       "      <td>2.44</td>\n",
       "      <td>2.93</td>\n",
       "      <td>3.00</td>\n",
       "      <td>2.96</td>\n",
       "      <td>2.93</td>\n",
       "      <td>2.82</td>\n",
       "      <td>2.83</td>\n",
       "      <td>2.78</td>\n",
       "      <td>3.26</td>\n",
       "      <td>3.03</td>\n",
       "    </tr>\n",
       "  </tbody>\n",
       "</table>\n",
       "<p>142 rows × 12 columns</p>\n",
       "</div>"
      ],
      "text/plain": [
       "            1 Mo  2 Mo  3 Mo  6 Mo  1 Yr  2 Yr  3 Yr  5 Yr  7 Yr  10 Yr  \\\n",
       "Date                                                                      \n",
       "2022-01-03  0.05  0.06  0.08  0.22  0.40  0.78  1.04  1.37  1.55   1.63   \n",
       "2022-01-04  0.06  0.05  0.08  0.22  0.38  0.77  1.02  1.37  1.57   1.66   \n",
       "2022-01-05  0.05  0.06  0.09  0.22  0.41  0.83  1.10  1.43  1.62   1.71   \n",
       "2022-01-06  0.04  0.05  0.10  0.23  0.45  0.88  1.15  1.47  1.66   1.73   \n",
       "2022-01-07  0.05  0.05  0.10  0.24  0.43  0.87  1.17  1.50  1.69   1.76   \n",
       "...          ...   ...   ...   ...   ...   ...   ...   ...   ...    ...   \n",
       "2022-07-21  2.15  2.30  2.48  3.00  3.11  3.10  3.07  3.00  2.99   2.91   \n",
       "2022-07-22  2.15  2.29  2.49  2.97  3.01  2.98  2.93  2.87  2.85   2.77   \n",
       "2022-07-25  2.14  2.31  2.62  3.06  3.07  3.00  2.98  2.89  2.89   2.81   \n",
       "2022-07-26  2.17  2.35  2.55  3.01  3.06  3.02  3.01  2.89  2.88   2.81   \n",
       "2022-07-27  2.14  2.30  2.44  2.93  3.00  2.96  2.93  2.82  2.83   2.78   \n",
       "\n",
       "            20 Yr  30 Yr  \n",
       "Date                      \n",
       "2022-01-03   2.05   2.01  \n",
       "2022-01-04   2.10   2.07  \n",
       "2022-01-05   2.12   2.09  \n",
       "2022-01-06   2.12   2.09  \n",
       "2022-01-07   2.15   2.11  \n",
       "...           ...    ...  \n",
       "2022-07-21   3.33   3.08  \n",
       "2022-07-22   3.23   3.00  \n",
       "2022-07-25   3.28   3.04  \n",
       "2022-07-26   3.27   3.03  \n",
       "2022-07-27   3.26   3.03  \n",
       "\n",
       "[142 rows x 12 columns]"
      ]
     },
     "execution_count": 20,
     "metadata": {},
     "output_type": "execute_result"
    }
   ],
   "source": [
    "df"
   ]
  },
  {
   "cell_type": "code",
   "execution_count": 21,
   "id": "f8167221-b792-4879-9344-bebd7b80c7e9",
   "metadata": {},
   "outputs": [],
   "source": [
    "df = df.sort_index()"
   ]
  },
  {
   "cell_type": "code",
   "execution_count": 22,
   "id": "5117b1f0-fcd6-49dd-a711-77511ef79cb0",
   "metadata": {},
   "outputs": [
    {
     "data": {
      "text/html": [
       "<div>\n",
       "<style scoped>\n",
       "    .dataframe tbody tr th:only-of-type {\n",
       "        vertical-align: middle;\n",
       "    }\n",
       "\n",
       "    .dataframe tbody tr th {\n",
       "        vertical-align: top;\n",
       "    }\n",
       "\n",
       "    .dataframe thead th {\n",
       "        text-align: right;\n",
       "    }\n",
       "</style>\n",
       "<table border=\"1\" class=\"dataframe\">\n",
       "  <thead>\n",
       "    <tr style=\"text-align: right;\">\n",
       "      <th></th>\n",
       "      <th>1 Mo</th>\n",
       "      <th>2 Mo</th>\n",
       "      <th>3 Mo</th>\n",
       "      <th>6 Mo</th>\n",
       "      <th>1 Yr</th>\n",
       "      <th>2 Yr</th>\n",
       "      <th>3 Yr</th>\n",
       "      <th>5 Yr</th>\n",
       "      <th>7 Yr</th>\n",
       "      <th>10 Yr</th>\n",
       "      <th>20 Yr</th>\n",
       "      <th>30 Yr</th>\n",
       "    </tr>\n",
       "    <tr>\n",
       "      <th>Date</th>\n",
       "      <th></th>\n",
       "      <th></th>\n",
       "      <th></th>\n",
       "      <th></th>\n",
       "      <th></th>\n",
       "      <th></th>\n",
       "      <th></th>\n",
       "      <th></th>\n",
       "      <th></th>\n",
       "      <th></th>\n",
       "      <th></th>\n",
       "      <th></th>\n",
       "    </tr>\n",
       "  </thead>\n",
       "  <tbody>\n",
       "    <tr>\n",
       "      <th>2022-01-03</th>\n",
       "      <td>0.05</td>\n",
       "      <td>0.06</td>\n",
       "      <td>0.08</td>\n",
       "      <td>0.22</td>\n",
       "      <td>0.40</td>\n",
       "      <td>0.78</td>\n",
       "      <td>1.04</td>\n",
       "      <td>1.37</td>\n",
       "      <td>1.55</td>\n",
       "      <td>1.63</td>\n",
       "      <td>2.05</td>\n",
       "      <td>2.01</td>\n",
       "    </tr>\n",
       "    <tr>\n",
       "      <th>2022-01-04</th>\n",
       "      <td>0.06</td>\n",
       "      <td>0.05</td>\n",
       "      <td>0.08</td>\n",
       "      <td>0.22</td>\n",
       "      <td>0.38</td>\n",
       "      <td>0.77</td>\n",
       "      <td>1.02</td>\n",
       "      <td>1.37</td>\n",
       "      <td>1.57</td>\n",
       "      <td>1.66</td>\n",
       "      <td>2.10</td>\n",
       "      <td>2.07</td>\n",
       "    </tr>\n",
       "    <tr>\n",
       "      <th>2022-01-05</th>\n",
       "      <td>0.05</td>\n",
       "      <td>0.06</td>\n",
       "      <td>0.09</td>\n",
       "      <td>0.22</td>\n",
       "      <td>0.41</td>\n",
       "      <td>0.83</td>\n",
       "      <td>1.10</td>\n",
       "      <td>1.43</td>\n",
       "      <td>1.62</td>\n",
       "      <td>1.71</td>\n",
       "      <td>2.12</td>\n",
       "      <td>2.09</td>\n",
       "    </tr>\n",
       "    <tr>\n",
       "      <th>2022-01-06</th>\n",
       "      <td>0.04</td>\n",
       "      <td>0.05</td>\n",
       "      <td>0.10</td>\n",
       "      <td>0.23</td>\n",
       "      <td>0.45</td>\n",
       "      <td>0.88</td>\n",
       "      <td>1.15</td>\n",
       "      <td>1.47</td>\n",
       "      <td>1.66</td>\n",
       "      <td>1.73</td>\n",
       "      <td>2.12</td>\n",
       "      <td>2.09</td>\n",
       "    </tr>\n",
       "    <tr>\n",
       "      <th>2022-01-07</th>\n",
       "      <td>0.05</td>\n",
       "      <td>0.05</td>\n",
       "      <td>0.10</td>\n",
       "      <td>0.24</td>\n",
       "      <td>0.43</td>\n",
       "      <td>0.87</td>\n",
       "      <td>1.17</td>\n",
       "      <td>1.50</td>\n",
       "      <td>1.69</td>\n",
       "      <td>1.76</td>\n",
       "      <td>2.15</td>\n",
       "      <td>2.11</td>\n",
       "    </tr>\n",
       "    <tr>\n",
       "      <th>...</th>\n",
       "      <td>...</td>\n",
       "      <td>...</td>\n",
       "      <td>...</td>\n",
       "      <td>...</td>\n",
       "      <td>...</td>\n",
       "      <td>...</td>\n",
       "      <td>...</td>\n",
       "      <td>...</td>\n",
       "      <td>...</td>\n",
       "      <td>...</td>\n",
       "      <td>...</td>\n",
       "      <td>...</td>\n",
       "    </tr>\n",
       "    <tr>\n",
       "      <th>2022-07-21</th>\n",
       "      <td>2.15</td>\n",
       "      <td>2.30</td>\n",
       "      <td>2.48</td>\n",
       "      <td>3.00</td>\n",
       "      <td>3.11</td>\n",
       "      <td>3.10</td>\n",
       "      <td>3.07</td>\n",
       "      <td>3.00</td>\n",
       "      <td>2.99</td>\n",
       "      <td>2.91</td>\n",
       "      <td>3.33</td>\n",
       "      <td>3.08</td>\n",
       "    </tr>\n",
       "    <tr>\n",
       "      <th>2022-07-22</th>\n",
       "      <td>2.15</td>\n",
       "      <td>2.29</td>\n",
       "      <td>2.49</td>\n",
       "      <td>2.97</td>\n",
       "      <td>3.01</td>\n",
       "      <td>2.98</td>\n",
       "      <td>2.93</td>\n",
       "      <td>2.87</td>\n",
       "      <td>2.85</td>\n",
       "      <td>2.77</td>\n",
       "      <td>3.23</td>\n",
       "      <td>3.00</td>\n",
       "    </tr>\n",
       "    <tr>\n",
       "      <th>2022-07-25</th>\n",
       "      <td>2.14</td>\n",
       "      <td>2.31</td>\n",
       "      <td>2.62</td>\n",
       "      <td>3.06</td>\n",
       "      <td>3.07</td>\n",
       "      <td>3.00</td>\n",
       "      <td>2.98</td>\n",
       "      <td>2.89</td>\n",
       "      <td>2.89</td>\n",
       "      <td>2.81</td>\n",
       "      <td>3.28</td>\n",
       "      <td>3.04</td>\n",
       "    </tr>\n",
       "    <tr>\n",
       "      <th>2022-07-26</th>\n",
       "      <td>2.17</td>\n",
       "      <td>2.35</td>\n",
       "      <td>2.55</td>\n",
       "      <td>3.01</td>\n",
       "      <td>3.06</td>\n",
       "      <td>3.02</td>\n",
       "      <td>3.01</td>\n",
       "      <td>2.89</td>\n",
       "      <td>2.88</td>\n",
       "      <td>2.81</td>\n",
       "      <td>3.27</td>\n",
       "      <td>3.03</td>\n",
       "    </tr>\n",
       "    <tr>\n",
       "      <th>2022-07-27</th>\n",
       "      <td>2.14</td>\n",
       "      <td>2.30</td>\n",
       "      <td>2.44</td>\n",
       "      <td>2.93</td>\n",
       "      <td>3.00</td>\n",
       "      <td>2.96</td>\n",
       "      <td>2.93</td>\n",
       "      <td>2.82</td>\n",
       "      <td>2.83</td>\n",
       "      <td>2.78</td>\n",
       "      <td>3.26</td>\n",
       "      <td>3.03</td>\n",
       "    </tr>\n",
       "  </tbody>\n",
       "</table>\n",
       "<p>142 rows × 12 columns</p>\n",
       "</div>"
      ],
      "text/plain": [
       "            1 Mo  2 Mo  3 Mo  6 Mo  1 Yr  2 Yr  3 Yr  5 Yr  7 Yr  10 Yr  \\\n",
       "Date                                                                      \n",
       "2022-01-03  0.05  0.06  0.08  0.22  0.40  0.78  1.04  1.37  1.55   1.63   \n",
       "2022-01-04  0.06  0.05  0.08  0.22  0.38  0.77  1.02  1.37  1.57   1.66   \n",
       "2022-01-05  0.05  0.06  0.09  0.22  0.41  0.83  1.10  1.43  1.62   1.71   \n",
       "2022-01-06  0.04  0.05  0.10  0.23  0.45  0.88  1.15  1.47  1.66   1.73   \n",
       "2022-01-07  0.05  0.05  0.10  0.24  0.43  0.87  1.17  1.50  1.69   1.76   \n",
       "...          ...   ...   ...   ...   ...   ...   ...   ...   ...    ...   \n",
       "2022-07-21  2.15  2.30  2.48  3.00  3.11  3.10  3.07  3.00  2.99   2.91   \n",
       "2022-07-22  2.15  2.29  2.49  2.97  3.01  2.98  2.93  2.87  2.85   2.77   \n",
       "2022-07-25  2.14  2.31  2.62  3.06  3.07  3.00  2.98  2.89  2.89   2.81   \n",
       "2022-07-26  2.17  2.35  2.55  3.01  3.06  3.02  3.01  2.89  2.88   2.81   \n",
       "2022-07-27  2.14  2.30  2.44  2.93  3.00  2.96  2.93  2.82  2.83   2.78   \n",
       "\n",
       "            20 Yr  30 Yr  \n",
       "Date                      \n",
       "2022-01-03   2.05   2.01  \n",
       "2022-01-04   2.10   2.07  \n",
       "2022-01-05   2.12   2.09  \n",
       "2022-01-06   2.12   2.09  \n",
       "2022-01-07   2.15   2.11  \n",
       "...           ...    ...  \n",
       "2022-07-21   3.33   3.08  \n",
       "2022-07-22   3.23   3.00  \n",
       "2022-07-25   3.28   3.04  \n",
       "2022-07-26   3.27   3.03  \n",
       "2022-07-27   3.26   3.03  \n",
       "\n",
       "[142 rows x 12 columns]"
      ]
     },
     "execution_count": 22,
     "metadata": {},
     "output_type": "execute_result"
    }
   ],
   "source": [
    "df"
   ]
  },
  {
   "cell_type": "code",
   "execution_count": 23,
   "id": "1a6dbdd3-6037-4bcf-917c-a299ea257a91",
   "metadata": {},
   "outputs": [],
   "source": [
    "df = df.drop('2 Mo',axis=1)"
   ]
  },
  {
   "cell_type": "code",
   "execution_count": 24,
   "id": "f123f687-47c8-4d9c-a51a-c25185eb25c6",
   "metadata": {},
   "outputs": [
    {
     "data": {
      "text/html": [
       "<div>\n",
       "<style scoped>\n",
       "    .dataframe tbody tr th:only-of-type {\n",
       "        vertical-align: middle;\n",
       "    }\n",
       "\n",
       "    .dataframe tbody tr th {\n",
       "        vertical-align: top;\n",
       "    }\n",
       "\n",
       "    .dataframe thead th {\n",
       "        text-align: right;\n",
       "    }\n",
       "</style>\n",
       "<table border=\"1\" class=\"dataframe\">\n",
       "  <thead>\n",
       "    <tr style=\"text-align: right;\">\n",
       "      <th></th>\n",
       "      <th>1 Mo</th>\n",
       "      <th>3 Mo</th>\n",
       "      <th>6 Mo</th>\n",
       "      <th>1 Yr</th>\n",
       "      <th>2 Yr</th>\n",
       "      <th>3 Yr</th>\n",
       "      <th>5 Yr</th>\n",
       "      <th>7 Yr</th>\n",
       "      <th>10 Yr</th>\n",
       "      <th>20 Yr</th>\n",
       "      <th>30 Yr</th>\n",
       "    </tr>\n",
       "    <tr>\n",
       "      <th>Date</th>\n",
       "      <th></th>\n",
       "      <th></th>\n",
       "      <th></th>\n",
       "      <th></th>\n",
       "      <th></th>\n",
       "      <th></th>\n",
       "      <th></th>\n",
       "      <th></th>\n",
       "      <th></th>\n",
       "      <th></th>\n",
       "      <th></th>\n",
       "    </tr>\n",
       "  </thead>\n",
       "  <tbody>\n",
       "    <tr>\n",
       "      <th>2022-01-03</th>\n",
       "      <td>0.05</td>\n",
       "      <td>0.08</td>\n",
       "      <td>0.22</td>\n",
       "      <td>0.40</td>\n",
       "      <td>0.78</td>\n",
       "      <td>1.04</td>\n",
       "      <td>1.37</td>\n",
       "      <td>1.55</td>\n",
       "      <td>1.63</td>\n",
       "      <td>2.05</td>\n",
       "      <td>2.01</td>\n",
       "    </tr>\n",
       "    <tr>\n",
       "      <th>2022-01-04</th>\n",
       "      <td>0.06</td>\n",
       "      <td>0.08</td>\n",
       "      <td>0.22</td>\n",
       "      <td>0.38</td>\n",
       "      <td>0.77</td>\n",
       "      <td>1.02</td>\n",
       "      <td>1.37</td>\n",
       "      <td>1.57</td>\n",
       "      <td>1.66</td>\n",
       "      <td>2.10</td>\n",
       "      <td>2.07</td>\n",
       "    </tr>\n",
       "    <tr>\n",
       "      <th>2022-01-05</th>\n",
       "      <td>0.05</td>\n",
       "      <td>0.09</td>\n",
       "      <td>0.22</td>\n",
       "      <td>0.41</td>\n",
       "      <td>0.83</td>\n",
       "      <td>1.10</td>\n",
       "      <td>1.43</td>\n",
       "      <td>1.62</td>\n",
       "      <td>1.71</td>\n",
       "      <td>2.12</td>\n",
       "      <td>2.09</td>\n",
       "    </tr>\n",
       "    <tr>\n",
       "      <th>2022-01-06</th>\n",
       "      <td>0.04</td>\n",
       "      <td>0.10</td>\n",
       "      <td>0.23</td>\n",
       "      <td>0.45</td>\n",
       "      <td>0.88</td>\n",
       "      <td>1.15</td>\n",
       "      <td>1.47</td>\n",
       "      <td>1.66</td>\n",
       "      <td>1.73</td>\n",
       "      <td>2.12</td>\n",
       "      <td>2.09</td>\n",
       "    </tr>\n",
       "    <tr>\n",
       "      <th>2022-01-07</th>\n",
       "      <td>0.05</td>\n",
       "      <td>0.10</td>\n",
       "      <td>0.24</td>\n",
       "      <td>0.43</td>\n",
       "      <td>0.87</td>\n",
       "      <td>1.17</td>\n",
       "      <td>1.50</td>\n",
       "      <td>1.69</td>\n",
       "      <td>1.76</td>\n",
       "      <td>2.15</td>\n",
       "      <td>2.11</td>\n",
       "    </tr>\n",
       "  </tbody>\n",
       "</table>\n",
       "</div>"
      ],
      "text/plain": [
       "            1 Mo  3 Mo  6 Mo  1 Yr  2 Yr  3 Yr  5 Yr  7 Yr  10 Yr  20 Yr  \\\n",
       "Date                                                                       \n",
       "2022-01-03  0.05  0.08  0.22  0.40  0.78  1.04  1.37  1.55   1.63   2.05   \n",
       "2022-01-04  0.06  0.08  0.22  0.38  0.77  1.02  1.37  1.57   1.66   2.10   \n",
       "2022-01-05  0.05  0.09  0.22  0.41  0.83  1.10  1.43  1.62   1.71   2.12   \n",
       "2022-01-06  0.04  0.10  0.23  0.45  0.88  1.15  1.47  1.66   1.73   2.12   \n",
       "2022-01-07  0.05  0.10  0.24  0.43  0.87  1.17  1.50  1.69   1.76   2.15   \n",
       "\n",
       "            30 Yr  \n",
       "Date               \n",
       "2022-01-03   2.01  \n",
       "2022-01-04   2.07  \n",
       "2022-01-05   2.09  \n",
       "2022-01-06   2.09  \n",
       "2022-01-07   2.11  "
      ]
     },
     "execution_count": 24,
     "metadata": {},
     "output_type": "execute_result"
    }
   ],
   "source": [
    "df.head()"
   ]
  },
  {
   "cell_type": "code",
   "execution_count": 29,
   "id": "a68a49c2-952f-4cd7-9c78-9c059b020888",
   "metadata": {},
   "outputs": [],
   "source": [
    "import plotly.graph_objects as go\n",
    "import pandas as pd\n",
    "import numpy as np"
   ]
  },
  {
   "cell_type": "code",
   "execution_count": 30,
   "id": "12ca3770-895e-430e-a04d-2b059e8b9c3d",
   "metadata": {},
   "outputs": [
    {
     "data": {
      "application/vnd.plotly.v1+json": {
       "config": {
        "plotlyServerURL": "https://plot.ly"
       },
       "data": [
        {
         "type": "surface",
         "x": [
          "1 Mo",
          "3 Mo",
          "6 Mo",
          "1 Yr",
          "2 Yr",
          "3 Yr",
          "5 Yr",
          "7 Yr",
          "10 Yr",
          "20 Yr",
          "30 Yr"
         ],
         "y": [
          "2022-01-03T00:00:00",
          "2022-01-04T00:00:00",
          "2022-01-05T00:00:00",
          "2022-01-06T00:00:00",
          "2022-01-07T00:00:00",
          "2022-01-10T00:00:00",
          "2022-01-11T00:00:00",
          "2022-01-12T00:00:00",
          "2022-01-13T00:00:00",
          "2022-01-14T00:00:00",
          "2022-01-18T00:00:00",
          "2022-01-19T00:00:00",
          "2022-01-20T00:00:00",
          "2022-01-21T00:00:00",
          "2022-01-24T00:00:00",
          "2022-01-25T00:00:00",
          "2022-01-26T00:00:00",
          "2022-01-27T00:00:00",
          "2022-01-28T00:00:00",
          "2022-01-31T00:00:00",
          "2022-02-01T00:00:00",
          "2022-02-02T00:00:00",
          "2022-02-03T00:00:00",
          "2022-02-04T00:00:00",
          "2022-02-07T00:00:00",
          "2022-02-08T00:00:00",
          "2022-02-09T00:00:00",
          "2022-02-10T00:00:00",
          "2022-02-11T00:00:00",
          "2022-02-14T00:00:00",
          "2022-02-15T00:00:00",
          "2022-02-16T00:00:00",
          "2022-02-17T00:00:00",
          "2022-02-18T00:00:00",
          "2022-02-22T00:00:00",
          "2022-02-23T00:00:00",
          "2022-02-24T00:00:00",
          "2022-02-25T00:00:00",
          "2022-02-28T00:00:00",
          "2022-03-01T00:00:00",
          "2022-03-02T00:00:00",
          "2022-03-03T00:00:00",
          "2022-03-04T00:00:00",
          "2022-03-07T00:00:00",
          "2022-03-08T00:00:00",
          "2022-03-09T00:00:00",
          "2022-03-10T00:00:00",
          "2022-03-11T00:00:00",
          "2022-03-14T00:00:00",
          "2022-03-15T00:00:00",
          "2022-03-16T00:00:00",
          "2022-03-17T00:00:00",
          "2022-03-18T00:00:00",
          "2022-03-21T00:00:00",
          "2022-03-22T00:00:00",
          "2022-03-23T00:00:00",
          "2022-03-24T00:00:00",
          "2022-03-25T00:00:00",
          "2022-03-28T00:00:00",
          "2022-03-29T00:00:00",
          "2022-03-30T00:00:00",
          "2022-03-31T00:00:00",
          "2022-04-01T00:00:00",
          "2022-04-04T00:00:00",
          "2022-04-05T00:00:00",
          "2022-04-06T00:00:00",
          "2022-04-07T00:00:00",
          "2022-04-08T00:00:00",
          "2022-04-11T00:00:00",
          "2022-04-12T00:00:00",
          "2022-04-13T00:00:00",
          "2022-04-14T00:00:00",
          "2022-04-18T00:00:00",
          "2022-04-19T00:00:00",
          "2022-04-20T00:00:00",
          "2022-04-21T00:00:00",
          "2022-04-22T00:00:00",
          "2022-04-25T00:00:00",
          "2022-04-26T00:00:00",
          "2022-04-27T00:00:00",
          "2022-04-28T00:00:00",
          "2022-04-29T00:00:00",
          "2022-05-02T00:00:00",
          "2022-05-03T00:00:00",
          "2022-05-04T00:00:00",
          "2022-05-05T00:00:00",
          "2022-05-06T00:00:00",
          "2022-05-09T00:00:00",
          "2022-05-10T00:00:00",
          "2022-05-11T00:00:00",
          "2022-05-12T00:00:00",
          "2022-05-13T00:00:00",
          "2022-05-16T00:00:00",
          "2022-05-17T00:00:00",
          "2022-05-18T00:00:00",
          "2022-05-19T00:00:00",
          "2022-05-20T00:00:00",
          "2022-05-23T00:00:00",
          "2022-05-24T00:00:00",
          "2022-05-25T00:00:00",
          "2022-05-26T00:00:00",
          "2022-05-27T00:00:00",
          "2022-05-31T00:00:00",
          "2022-06-01T00:00:00",
          "2022-06-02T00:00:00",
          "2022-06-03T00:00:00",
          "2022-06-06T00:00:00",
          "2022-06-07T00:00:00",
          "2022-06-08T00:00:00",
          "2022-06-09T00:00:00",
          "2022-06-10T00:00:00",
          "2022-06-13T00:00:00",
          "2022-06-14T00:00:00",
          "2022-06-15T00:00:00",
          "2022-06-16T00:00:00",
          "2022-06-17T00:00:00",
          "2022-06-21T00:00:00",
          "2022-06-22T00:00:00",
          "2022-06-23T00:00:00",
          "2022-06-24T00:00:00",
          "2022-06-27T00:00:00",
          "2022-06-28T00:00:00",
          "2022-06-29T00:00:00",
          "2022-06-30T00:00:00",
          "2022-07-01T00:00:00",
          "2022-07-05T00:00:00",
          "2022-07-06T00:00:00",
          "2022-07-07T00:00:00",
          "2022-07-08T00:00:00",
          "2022-07-11T00:00:00",
          "2022-07-12T00:00:00",
          "2022-07-13T00:00:00",
          "2022-07-14T00:00:00",
          "2022-07-15T00:00:00",
          "2022-07-18T00:00:00",
          "2022-07-19T00:00:00",
          "2022-07-20T00:00:00",
          "2022-07-21T00:00:00",
          "2022-07-22T00:00:00",
          "2022-07-25T00:00:00",
          "2022-07-26T00:00:00",
          "2022-07-27T00:00:00"
         ],
         "z": [
          [
           0.05,
           0.08,
           0.22,
           0.4,
           0.78,
           1.04,
           1.37,
           1.55,
           1.63,
           2.05,
           2.01
          ],
          [
           0.06,
           0.08,
           0.22,
           0.38,
           0.77,
           1.02,
           1.37,
           1.57,
           1.66,
           2.1,
           2.07
          ],
          [
           0.05,
           0.09,
           0.22,
           0.41,
           0.83,
           1.1,
           1.43,
           1.62,
           1.71,
           2.12,
           2.09
          ],
          [
           0.04,
           0.1,
           0.23,
           0.45,
           0.88,
           1.15,
           1.47,
           1.66,
           1.73,
           2.12,
           2.09
          ],
          [
           0.05,
           0.1,
           0.24,
           0.43,
           0.87,
           1.17,
           1.5,
           1.69,
           1.76,
           2.15,
           2.11
          ],
          [
           0.05,
           0.13,
           0.28,
           0.46,
           0.92,
           1.21,
           1.53,
           1.71,
           1.78,
           2.15,
           2.11
          ],
          [
           0.04,
           0.11,
           0.28,
           0.46,
           0.9,
           1.22,
           1.51,
           1.69,
           1.75,
           2.13,
           2.08
          ],
          [
           0.04,
           0.12,
           0.27,
           0.48,
           0.92,
           1.21,
           1.5,
           1.67,
           1.74,
           2.13,
           2.08
          ],
          [
           0.05,
           0.12,
           0.28,
           0.47,
           0.91,
           1.18,
           1.47,
           1.64,
           1.7,
           2.1,
           2.05
          ],
          [
           0.05,
           0.13,
           0.3,
           0.51,
           0.99,
           1.26,
           1.55,
           1.72,
           1.78,
           2.18,
           2.12
          ],
          [
           0.05,
           0.16,
           0.37,
           0.58,
           1.06,
           1.35,
           1.65,
           1.82,
           1.87,
           2.24,
           2.18
          ],
          [
           0.05,
           0.17,
           0.36,
           0.57,
           1.04,
           1.33,
           1.62,
           1.78,
           1.83,
           2.2,
           2.14
          ],
          [
           0.05,
           0.17,
           0.36,
           0.6,
           1.08,
           1.34,
           1.62,
           1.77,
           1.83,
           2.19,
           2.14
          ],
          [
           0.05,
           0.17,
           0.35,
           0.58,
           1.01,
           1.28,
           1.54,
           1.7,
           1.75,
           2.13,
           2.07
          ],
          [
           0.05,
           0.19,
           0.39,
           0.58,
           0.99,
           1.25,
           1.53,
           1.69,
           1.75,
           2.15,
           2.1
          ],
          [
           0.05,
           0.19,
           0.39,
           0.65,
           1.02,
           1.28,
           1.56,
           1.73,
           1.78,
           2.18,
           2.12
          ],
          [
           0.06,
           0.19,
           0.4,
           0.7,
           1.13,
           1.39,
           1.66,
           1.81,
           1.85,
           2.22,
           2.16
          ],
          [
           0.04,
           0.2,
           0.43,
           0.75,
           1.18,
           1.43,
           1.66,
           1.78,
           1.81,
           2.17,
           2.09
          ],
          [
           0.04,
           0.19,
           0.43,
           0.75,
           1.15,
           1.38,
           1.61,
           1.74,
           1.78,
           2.14,
           2.07
          ],
          [
           0.03,
           0.22,
           0.49,
           0.78,
           1.18,
           1.39,
           1.62,
           1.75,
           1.79,
           2.17,
           2.11
          ],
          [
           0.04,
           0.19,
           0.48,
           0.78,
           1.18,
           1.39,
           1.63,
           1.76,
           1.81,
           2.19,
           2.12
          ],
          [
           0.04,
           0.19,
           0.45,
           0.76,
           1.16,
           1.38,
           1.6,
           1.74,
           1.78,
           2.17,
           2.11
          ],
          [
           0.03,
           0.2,
           0.48,
           0.78,
           1.19,
           1.42,
           1.66,
           1.78,
           1.82,
           2.2,
           2.14
          ],
          [
           0.05,
           0.23,
           0.56,
           0.89,
           1.31,
           1.55,
           1.78,
           1.9,
           1.93,
           2.29,
           2.23
          ],
          [
           0.03,
           0.27,
           0.58,
           0.88,
           1.3,
           1.54,
           1.76,
           1.88,
           1.92,
           2.28,
           2.22
          ],
          [
           0.03,
           0.25,
           0.59,
           0.91,
           1.35,
           1.59,
           1.81,
           1.93,
           1.96,
           2.31,
           2.25
          ],
          [
           0.04,
           0.26,
           0.57,
           0.91,
           1.36,
           1.61,
           1.82,
           1.92,
           1.94,
           2.31,
           2.25
          ],
          [
           0.05,
           0.4,
           0.74,
           1.14,
           1.61,
           1.82,
           1.96,
           2.03,
           2.03,
           2.37,
           2.3
          ],
          [
           0.03,
           0.36,
           0.71,
           1.07,
           1.5,
           1.71,
           1.84,
           1.92,
           1.92,
           2.3,
           2.24
          ],
          [
           0.03,
           0.43,
           0.76,
           1.13,
           1.58,
           1.8,
           1.9,
           1.98,
           1.98,
           2.35,
           2.29
          ],
          [
           0.02,
           0.4,
           0.72,
           1.11,
           1.58,
           1.8,
           1.94,
           2.03,
           2.05,
           2.42,
           2.37
          ],
          [
           0.03,
           0.38,
           0.67,
           1.09,
           1.52,
           1.75,
           1.9,
           2,
           2.03,
           2.39,
           2.34
          ],
          [
           0.06,
           0.36,
           0.65,
           1.05,
           1.49,
           1.7,
           1.85,
           1.94,
           1.97,
           2.35,
           2.31
          ],
          [
           0.03,
           0.35,
           0.65,
           1.03,
           1.47,
           1.68,
           1.82,
           1.9,
           1.92,
           2.3,
           2.24
          ],
          [
           0.03,
           0.37,
           0.73,
           1.17,
           1.56,
           1.74,
           1.85,
           1.93,
           1.94,
           2.31,
           2.24
          ],
          [
           0.02,
           0.34,
           0.74,
           1.16,
           1.58,
           1.78,
           1.89,
           1.98,
           1.99,
           2.36,
           2.29
          ],
          [
           0.05,
           0.32,
           0.65,
           1.08,
           1.54,
           1.73,
           1.84,
           1.94,
           1.96,
           2.36,
           2.28
          ],
          [
           0.03,
           0.33,
           0.71,
           1.13,
           1.55,
           1.76,
           1.86,
           1.96,
           1.97,
           2.37,
           2.29
          ],
          [
           0.06,
           0.35,
           0.69,
           1.01,
           1.44,
           1.62,
           1.71,
           1.81,
           1.83,
           2.25,
           2.17
          ],
          [
           0.11,
           0.32,
           0.6,
           0.91,
           1.31,
           1.47,
           1.56,
           1.67,
           1.72,
           2.19,
           2.11
          ],
          [
           0.13,
           0.34,
           0.68,
           1.06,
           1.5,
           1.67,
           1.74,
           1.83,
           1.86,
           2.32,
           2.24
          ],
          [
           0.19,
           0.38,
           0.69,
           1.08,
           1.53,
           1.69,
           1.74,
           1.82,
           1.86,
           2.32,
           2.24
          ],
          [
           0.15,
           0.34,
           0.69,
           1.05,
           1.5,
           1.62,
           1.65,
           1.7,
           1.74,
           2.23,
           2.16
          ],
          [
           0.17,
           0.38,
           0.75,
           1.07,
           1.55,
           1.68,
           1.71,
           1.77,
           1.78,
           2.29,
           2.19
          ],
          [
           0.16,
           0.36,
           0.72,
           1.12,
           1.63,
           1.78,
           1.8,
           1.85,
           1.86,
           2.34,
           2.24
          ],
          [
           0.18,
           0.38,
           0.75,
           1.15,
           1.68,
           1.83,
           1.87,
           1.92,
           1.94,
           2.38,
           2.29
          ],
          [
           0.19,
           0.39,
           0.75,
           1.19,
           1.72,
           1.88,
           1.92,
           1.98,
           1.98,
           2.45,
           2.38
          ],
          [
           0.17,
           0.4,
           0.78,
           1.22,
           1.75,
           1.91,
           1.96,
           2.01,
           2,
           2.45,
           2.36
          ],
          [
           0.23,
           0.45,
           0.86,
           1.28,
           1.87,
           2.04,
           2.1,
           2.16,
           2.14,
           2.56,
           2.47
          ],
          [
           0.22,
           0.46,
           0.86,
           1.28,
           1.85,
           2.04,
           2.1,
           2.16,
           2.15,
           2.57,
           2.49
          ],
          [
           0.24,
           0.44,
           0.86,
           1.35,
           1.95,
           2.14,
           2.18,
           2.22,
           2.19,
           2.56,
           2.46
          ],
          [
           0.2,
           0.4,
           0.81,
           1.3,
           1.94,
           2.14,
           2.17,
           2.22,
           2.2,
           2.6,
           2.5
          ],
          [
           0.19,
           0.42,
           0.83,
           1.29,
           1.97,
           2.15,
           2.14,
           2.17,
           2.14,
           2.53,
           2.42
          ],
          [
           0.22,
           0.54,
           0.95,
           1.4,
           2.14,
           2.34,
           2.33,
           2.36,
           2.32,
           2.67,
           2.55
          ],
          [
           0.2,
           0.51,
           0.96,
           1.59,
           2.18,
           2.38,
           2.39,
           2.42,
           2.38,
           2.71,
           2.6
          ],
          [
           0.15,
           0.5,
           0.93,
           1.52,
           2.13,
           2.32,
           2.34,
           2.37,
           2.32,
           2.65,
           2.52
          ],
          [
           0.16,
           0.52,
           0.96,
           1.55,
           2.13,
           2.35,
           2.37,
           2.39,
           2.34,
           2.63,
           2.51
          ],
          [
           0.17,
           0.55,
           1.01,
           1.67,
           2.3,
           2.51,
           2.55,
           2.56,
           2.48,
           2.74,
           2.6
          ],
          [
           0.19,
           0.59,
           1.08,
           1.69,
           2.35,
           2.55,
           2.54,
           2.55,
           2.46,
           2.72,
           2.57
          ],
          [
           0.18,
           0.55,
           1.06,
           1.67,
           2.35,
           2.54,
           2.49,
           2.5,
           2.41,
           2.68,
           2.53
          ],
          [
           0.16,
           0.55,
           1.04,
           1.64,
           2.31,
           2.49,
           2.44,
           2.43,
           2.35,
           2.63,
           2.48
          ],
          [
           0.17,
           0.52,
           1.06,
           1.63,
           2.28,
           2.45,
           2.42,
           2.4,
           2.32,
           2.59,
           2.44
          ],
          [
           0.15,
           0.53,
           1.09,
           1.72,
           2.44,
           2.61,
           2.55,
           2.5,
           2.39,
           2.6,
           2.44
          ],
          [
           0.18,
           0.66,
           1.14,
           1.72,
           2.43,
           2.61,
           2.56,
           2.52,
           2.42,
           2.64,
           2.48
          ],
          [
           0.18,
           0.65,
           1.13,
           1.77,
           2.51,
           2.69,
           2.69,
           2.65,
           2.54,
           2.74,
           2.57
          ],
          [
           0.21,
           0.67,
           1.15,
           1.79,
           2.5,
           2.67,
           2.7,
           2.69,
           2.61,
           2.81,
           2.63
          ],
          [
           0.21,
           0.68,
           1.15,
           1.78,
           2.47,
           2.66,
           2.7,
           2.73,
           2.66,
           2.87,
           2.69
          ],
          [
           0.2,
           0.7,
           1.19,
           1.81,
           2.53,
           2.73,
           2.76,
           2.79,
           2.72,
           2.94,
           2.76
          ],
          [
           0.22,
           0.77,
           1.23,
           1.85,
           2.5,
           2.73,
           2.79,
           2.84,
           2.79,
           3.02,
           2.84
          ],
          [
           0.21,
           0.74,
           1.2,
           1.77,
           2.39,
           2.58,
           2.66,
           2.73,
           2.72,
           2.99,
           2.82
          ],
          [
           0.26,
           0.75,
           1.2,
           1.78,
           2.37,
           2.57,
           2.66,
           2.71,
           2.7,
           2.97,
           2.81
          ],
          [
           0.37,
           0.79,
           1.25,
           1.84,
           2.47,
           2.67,
           2.79,
           2.84,
           2.83,
           3.09,
           2.92
          ],
          [
           0.38,
           0.81,
           1.27,
           1.84,
           2.46,
           2.68,
           2.79,
           2.85,
           2.85,
           3.12,
           2.95
          ],
          [
           0.37,
           0.81,
           1.28,
           1.94,
           2.61,
           2.81,
           2.91,
           2.95,
           2.93,
           3.19,
           3.01
          ],
          [
           0.35,
           0.82,
           1.29,
           1.93,
           2.6,
           2.79,
           2.87,
           2.88,
           2.85,
           3.08,
           2.9
          ],
          [
           0.5,
           0.83,
           1.32,
           2.01,
           2.68,
           2.87,
           2.96,
           2.96,
           2.9,
           3.12,
           2.94
          ],
          [
           0.46,
           0.83,
           1.34,
           2.06,
           2.72,
           2.88,
           2.94,
           2.95,
           2.9,
           3.14,
           2.95
          ],
          [
           0.4,
           0.91,
           1.42,
           2.03,
           2.63,
           2.79,
           2.84,
           2.85,
           2.81,
           3.06,
           2.88
          ],
          [
           0.38,
           0.83,
           1.4,
           1.99,
           2.54,
           2.72,
           2.79,
           2.8,
           2.77,
           3.03,
           2.86
          ],
          [
           0.37,
           0.82,
           1.39,
           1.97,
           2.58,
           2.75,
           2.81,
           2.84,
           2.82,
           3.08,
           2.91
          ],
          [
           0.37,
           0.82,
           1.38,
           2.04,
           2.63,
           2.8,
           2.86,
           2.88,
           2.85,
           3.1,
           2.92
          ],
          [
           0.37,
           0.85,
           1.41,
           2.1,
           2.7,
           2.87,
           2.92,
           2.94,
           2.89,
           3.14,
           2.96
          ],
          [
           0.41,
           0.9,
           1.49,
           2.1,
           2.73,
           2.93,
           3.01,
           3.04,
           2.99,
           3.26,
           3.07
          ],
          [
           0.48,
           0.91,
           1.45,
           2.16,
           2.78,
           2.95,
           3.01,
           3.03,
           2.97,
           3.21,
           3.03
          ],
          [
           0.49,
           0.89,
           1.44,
           2.07,
           2.66,
           2.85,
           2.93,
           2.97,
           2.93,
           3.21,
           3.01
          ],
          [
           0.49,
           0.85,
           1.37,
           2.08,
           2.71,
           2.91,
           3.01,
           3.07,
           3.05,
           3.35,
           3.15
          ],
          [
           0.48,
           0.85,
           1.41,
           2.08,
           2.72,
           2.94,
           3.06,
           3.13,
           3.12,
           3.43,
           3.23
          ],
          [
           0.51,
           0.92,
           1.43,
           1.99,
           2.61,
           2.81,
           2.95,
           3.04,
           3.05,
           3.38,
           3.19
          ],
          [
           0.57,
           0.89,
           1.44,
           2.01,
           2.62,
           2.81,
           2.91,
           2.99,
           2.99,
           3.31,
           3.12
          ],
          [
           0.59,
           0.91,
           1.43,
           1.99,
           2.66,
           2.81,
           2.89,
           2.94,
           2.91,
           3.25,
           3.05
          ],
          [
           0.61,
           0.96,
           1.44,
           1.96,
           2.56,
           2.73,
           2.81,
           2.86,
           2.84,
           3.22,
           3
          ],
          [
           0.67,
           1.03,
           1.47,
           2.04,
           2.61,
           2.79,
           2.89,
           2.95,
           2.93,
           3.32,
           3.1
          ],
          [
           0.64,
           1.07,
           1.54,
           2.07,
           2.58,
           2.75,
           2.83,
           2.89,
           2.88,
           3.3,
           3.09
          ],
          [
           0.61,
           1.06,
           1.57,
           2.16,
           2.71,
           2.89,
           2.96,
           3,
           2.98,
           3.36,
           3.17
          ],
          [
           0.56,
           1.03,
           1.56,
           2.16,
           2.68,
           2.84,
           2.89,
           2.91,
           2.89,
           3.24,
           3.07
          ],
          [
           0.65,
           1.05,
           1.52,
           2.11,
           2.63,
           2.78,
           2.84,
           2.87,
           2.84,
           3.24,
           3.05
          ],
          [
           0.63,
           1.03,
           1.51,
           2.07,
           2.6,
           2.73,
           2.8,
           2.82,
           2.78,
           3.17,
           2.99
          ],
          [
           0.55,
           1.07,
           1.57,
           2.09,
           2.65,
           2.8,
           2.88,
           2.9,
           2.86,
           3.26,
           3.08
          ],
          [
           0.55,
           1.06,
           1.53,
           2.02,
           2.5,
           2.66,
           2.76,
           2.8,
           2.76,
           3.16,
           2.98
          ],
          [
           0.58,
           1.06,
           1.52,
           2.01,
           2.48,
           2.63,
           2.71,
           2.76,
           2.75,
           3.14,
           2.97
          ],
          [
           0.71,
           1.07,
           1.52,
           1.99,
           2.46,
           2.63,
           2.7,
           2.75,
           2.75,
           3.18,
           2.99
          ],
          [
           0.69,
           1.08,
           1.54,
           2.01,
           2.47,
           2.64,
           2.71,
           2.76,
           2.74,
           3.16,
           2.97
          ],
          [
           0.73,
           1.16,
           1.64,
           2.08,
           2.53,
           2.71,
           2.81,
           2.87,
           2.85,
           3.28,
           3.07
          ],
          [
           0.77,
           1.15,
           1.63,
           2.16,
           2.66,
           2.84,
           2.94,
           2.98,
           2.94,
           3.31,
           3.09
          ],
          [
           0.85,
           1.17,
           1.64,
           2.15,
           2.65,
           2.83,
           2.92,
           2.95,
           2.92,
           3.3,
           3.09
          ],
          [
           0.87,
           1.21,
           1.68,
           2.18,
           2.66,
           2.87,
           2.95,
           2.99,
           2.96,
           3.33,
           3.11
          ],
          [
           0.88,
           1.26,
           1.74,
           2.23,
           2.73,
           2.94,
           3.03,
           3.07,
           3.04,
           3.41,
           3.19
          ],
          [
           0.87,
           1.26,
           1.75,
           2.26,
           2.75,
           2.91,
           2.99,
           3.02,
           2.98,
           3.35,
           3.13
          ],
          [
           0.89,
           1.28,
           1.77,
           2.29,
           2.78,
           2.94,
           3.03,
           3.06,
           3.03,
           3.4,
           3.18
          ],
          [
           1.05,
           1.3,
           1.81,
           2.35,
           2.83,
           2.99,
           3.07,
           3.08,
           3.04,
           3.4,
           3.18
          ],
          [
           1.1,
           1.39,
           1.98,
           2.58,
           3.06,
           3.21,
           3.25,
           3.24,
           3.15,
           3.45,
           3.2
          ],
          [
           1.13,
           1.73,
           2.25,
           2.89,
           3.4,
           3.56,
           3.56,
           3.53,
           3.43,
           3.68,
           3.42
          ],
          [
           1.19,
           1.83,
           2.43,
           3.15,
           3.45,
           3.6,
           3.61,
           3.6,
           3.49,
           3.72,
           3.45
          ],
          [
           1.21,
           1.74,
           2.32,
           2.93,
           3.2,
           3.35,
           3.38,
           3.39,
           3.33,
           3.64,
           3.39
          ],
          [
           1.19,
           1.59,
           2.24,
           2.88,
           3.14,
           3.33,
           3.35,
           3.36,
           3.28,
           3.59,
           3.35
          ],
          [
           1.15,
           1.63,
           2.25,
           2.86,
           3.17,
           3.35,
           3.34,
           3.34,
           3.25,
           3.55,
           3.3
          ],
          [
           1.08,
           1.7,
           2.46,
           2.92,
           3.21,
           3.35,
           3.38,
           3.39,
           3.31,
           3.63,
           3.39
          ],
          [
           0.98,
           1.61,
           2.4,
           2.79,
           3.06,
           3.2,
           3.22,
           3.24,
           3.16,
           3.49,
           3.25
          ],
          [
           1.12,
           1.65,
           2.44,
           2.78,
           3.01,
           3.12,
           3.14,
           3.16,
           3.09,
           3.45,
           3.21
          ],
          [
           1.19,
           1.73,
           2.51,
           2.83,
           3.04,
           3.13,
           3.18,
           3.19,
           3.13,
           3.51,
           3.26
          ],
          [
           1.16,
           1.79,
           2.56,
           2.89,
           3.08,
           3.21,
           3.24,
           3.27,
           3.2,
           3.56,
           3.31
          ],
          [
           1.12,
           1.79,
           2.55,
           2.88,
           3.1,
           3.21,
           3.25,
           3.27,
           3.2,
           3.55,
           3.3
          ],
          [
           1.12,
           1.78,
           2.55,
           2.88,
           3.06,
           3.13,
           3.15,
           3.17,
           3.1,
           3.46,
           3.22
          ],
          [
           1.28,
           1.72,
           2.51,
           2.8,
           2.92,
           2.99,
           3.01,
           3.04,
           2.98,
           3.38,
           3.14
          ],
          [
           1.27,
           1.73,
           2.52,
           2.79,
           2.84,
           2.85,
           2.88,
           2.92,
           2.88,
           3.35,
           3.11
          ],
          [
           1.33,
           1.9,
           2.59,
           2.77,
           2.82,
           2.82,
           2.82,
           2.87,
           2.82,
           3.31,
           3.05
          ],
          [
           1.36,
           1.9,
           2.62,
           2.82,
           2.97,
           2.99,
           2.96,
           2.99,
           2.93,
           3.42,
           3.14
          ],
          [
           1.55,
           1.95,
           2.64,
           2.87,
           3.03,
           3.05,
           3.05,
           3.07,
           3.01,
           3.45,
           3.2
          ],
          [
           1.57,
           1.98,
           2.68,
           2.96,
           3.12,
           3.14,
           3.13,
           3.16,
           3.09,
           3.53,
           3.27
          ],
          [
           1.58,
           2.18,
           2.79,
           2.97,
           3.07,
           3.09,
           3.05,
           3.06,
           2.99,
           3.43,
           3.18
          ],
          [
           1.63,
           2.22,
           2.78,
           3.07,
           3.03,
           3.07,
           3.01,
           3.01,
           2.96,
           3.37,
           3.13
          ],
          [
           1.78,
           2.39,
           2.96,
           3.21,
           3.13,
           3.14,
           3.02,
           3,
           2.91,
           3.35,
           3.08
          ],
          [
           1.99,
           2.4,
           2.93,
           3.16,
           3.15,
           3.16,
           3.06,
           3.05,
           2.96,
           3.36,
           3.11
          ],
          [
           1.98,
           2.37,
           2.94,
           3.12,
           3.13,
           3.14,
           3.05,
           3.03,
           2.93,
           3.34,
           3.1
          ],
          [
           1.96,
           2.5,
           3.02,
           3.13,
           3.15,
           3.15,
           3.06,
           3.05,
           2.96,
           3.39,
           3.14
          ],
          [
           1.93,
           2.52,
           3.06,
           3.18,
           3.23,
           3.22,
           3.14,
           3.11,
           3.01,
           3.42,
           3.17
          ],
          [
           1.92,
           2.51,
           3.04,
           3.18,
           3.25,
           3.25,
           3.18,
           3.15,
           3.04,
           3.43,
           3.17
          ],
          [
           2.15,
           2.48,
           3,
           3.11,
           3.1,
           3.07,
           3,
           2.99,
           2.91,
           3.33,
           3.08
          ],
          [
           2.15,
           2.49,
           2.97,
           3.01,
           2.98,
           2.93,
           2.87,
           2.85,
           2.77,
           3.23,
           3
          ],
          [
           2.14,
           2.62,
           3.06,
           3.07,
           3,
           2.98,
           2.89,
           2.89,
           2.81,
           3.28,
           3.04
          ],
          [
           2.17,
           2.55,
           3.01,
           3.06,
           3.02,
           3.01,
           2.89,
           2.88,
           2.81,
           3.27,
           3.03
          ],
          [
           2.14,
           2.44,
           2.93,
           3,
           2.96,
           2.93,
           2.82,
           2.83,
           2.78,
           3.26,
           3.03
          ]
         ]
        }
       ],
       "layout": {
        "scene": {
         "aspectratio": {
          "x": 1,
          "y": 1,
          "z": 0.4
         }
        },
        "template": {
         "data": {
          "bar": [
           {
            "error_x": {
             "color": "#2a3f5f"
            },
            "error_y": {
             "color": "#2a3f5f"
            },
            "marker": {
             "line": {
              "color": "#E5ECF6",
              "width": 0.5
             },
             "pattern": {
              "fillmode": "overlay",
              "size": 10,
              "solidity": 0.2
             }
            },
            "type": "bar"
           }
          ],
          "barpolar": [
           {
            "marker": {
             "line": {
              "color": "#E5ECF6",
              "width": 0.5
             },
             "pattern": {
              "fillmode": "overlay",
              "size": 10,
              "solidity": 0.2
             }
            },
            "type": "barpolar"
           }
          ],
          "carpet": [
           {
            "aaxis": {
             "endlinecolor": "#2a3f5f",
             "gridcolor": "white",
             "linecolor": "white",
             "minorgridcolor": "white",
             "startlinecolor": "#2a3f5f"
            },
            "baxis": {
             "endlinecolor": "#2a3f5f",
             "gridcolor": "white",
             "linecolor": "white",
             "minorgridcolor": "white",
             "startlinecolor": "#2a3f5f"
            },
            "type": "carpet"
           }
          ],
          "choropleth": [
           {
            "colorbar": {
             "outlinewidth": 0,
             "ticks": ""
            },
            "type": "choropleth"
           }
          ],
          "contour": [
           {
            "colorbar": {
             "outlinewidth": 0,
             "ticks": ""
            },
            "colorscale": [
             [
              0,
              "#0d0887"
             ],
             [
              0.1111111111111111,
              "#46039f"
             ],
             [
              0.2222222222222222,
              "#7201a8"
             ],
             [
              0.3333333333333333,
              "#9c179e"
             ],
             [
              0.4444444444444444,
              "#bd3786"
             ],
             [
              0.5555555555555556,
              "#d8576b"
             ],
             [
              0.6666666666666666,
              "#ed7953"
             ],
             [
              0.7777777777777778,
              "#fb9f3a"
             ],
             [
              0.8888888888888888,
              "#fdca26"
             ],
             [
              1,
              "#f0f921"
             ]
            ],
            "type": "contour"
           }
          ],
          "contourcarpet": [
           {
            "colorbar": {
             "outlinewidth": 0,
             "ticks": ""
            },
            "type": "contourcarpet"
           }
          ],
          "heatmap": [
           {
            "colorbar": {
             "outlinewidth": 0,
             "ticks": ""
            },
            "colorscale": [
             [
              0,
              "#0d0887"
             ],
             [
              0.1111111111111111,
              "#46039f"
             ],
             [
              0.2222222222222222,
              "#7201a8"
             ],
             [
              0.3333333333333333,
              "#9c179e"
             ],
             [
              0.4444444444444444,
              "#bd3786"
             ],
             [
              0.5555555555555556,
              "#d8576b"
             ],
             [
              0.6666666666666666,
              "#ed7953"
             ],
             [
              0.7777777777777778,
              "#fb9f3a"
             ],
             [
              0.8888888888888888,
              "#fdca26"
             ],
             [
              1,
              "#f0f921"
             ]
            ],
            "type": "heatmap"
           }
          ],
          "heatmapgl": [
           {
            "colorbar": {
             "outlinewidth": 0,
             "ticks": ""
            },
            "colorscale": [
             [
              0,
              "#0d0887"
             ],
             [
              0.1111111111111111,
              "#46039f"
             ],
             [
              0.2222222222222222,
              "#7201a8"
             ],
             [
              0.3333333333333333,
              "#9c179e"
             ],
             [
              0.4444444444444444,
              "#bd3786"
             ],
             [
              0.5555555555555556,
              "#d8576b"
             ],
             [
              0.6666666666666666,
              "#ed7953"
             ],
             [
              0.7777777777777778,
              "#fb9f3a"
             ],
             [
              0.8888888888888888,
              "#fdca26"
             ],
             [
              1,
              "#f0f921"
             ]
            ],
            "type": "heatmapgl"
           }
          ],
          "histogram": [
           {
            "marker": {
             "pattern": {
              "fillmode": "overlay",
              "size": 10,
              "solidity": 0.2
             }
            },
            "type": "histogram"
           }
          ],
          "histogram2d": [
           {
            "colorbar": {
             "outlinewidth": 0,
             "ticks": ""
            },
            "colorscale": [
             [
              0,
              "#0d0887"
             ],
             [
              0.1111111111111111,
              "#46039f"
             ],
             [
              0.2222222222222222,
              "#7201a8"
             ],
             [
              0.3333333333333333,
              "#9c179e"
             ],
             [
              0.4444444444444444,
              "#bd3786"
             ],
             [
              0.5555555555555556,
              "#d8576b"
             ],
             [
              0.6666666666666666,
              "#ed7953"
             ],
             [
              0.7777777777777778,
              "#fb9f3a"
             ],
             [
              0.8888888888888888,
              "#fdca26"
             ],
             [
              1,
              "#f0f921"
             ]
            ],
            "type": "histogram2d"
           }
          ],
          "histogram2dcontour": [
           {
            "colorbar": {
             "outlinewidth": 0,
             "ticks": ""
            },
            "colorscale": [
             [
              0,
              "#0d0887"
             ],
             [
              0.1111111111111111,
              "#46039f"
             ],
             [
              0.2222222222222222,
              "#7201a8"
             ],
             [
              0.3333333333333333,
              "#9c179e"
             ],
             [
              0.4444444444444444,
              "#bd3786"
             ],
             [
              0.5555555555555556,
              "#d8576b"
             ],
             [
              0.6666666666666666,
              "#ed7953"
             ],
             [
              0.7777777777777778,
              "#fb9f3a"
             ],
             [
              0.8888888888888888,
              "#fdca26"
             ],
             [
              1,
              "#f0f921"
             ]
            ],
            "type": "histogram2dcontour"
           }
          ],
          "mesh3d": [
           {
            "colorbar": {
             "outlinewidth": 0,
             "ticks": ""
            },
            "type": "mesh3d"
           }
          ],
          "parcoords": [
           {
            "line": {
             "colorbar": {
              "outlinewidth": 0,
              "ticks": ""
             }
            },
            "type": "parcoords"
           }
          ],
          "pie": [
           {
            "automargin": true,
            "type": "pie"
           }
          ],
          "scatter": [
           {
            "fillpattern": {
             "fillmode": "overlay",
             "size": 10,
             "solidity": 0.2
            },
            "type": "scatter"
           }
          ],
          "scatter3d": [
           {
            "line": {
             "colorbar": {
              "outlinewidth": 0,
              "ticks": ""
             }
            },
            "marker": {
             "colorbar": {
              "outlinewidth": 0,
              "ticks": ""
             }
            },
            "type": "scatter3d"
           }
          ],
          "scattercarpet": [
           {
            "marker": {
             "colorbar": {
              "outlinewidth": 0,
              "ticks": ""
             }
            },
            "type": "scattercarpet"
           }
          ],
          "scattergeo": [
           {
            "marker": {
             "colorbar": {
              "outlinewidth": 0,
              "ticks": ""
             }
            },
            "type": "scattergeo"
           }
          ],
          "scattergl": [
           {
            "marker": {
             "colorbar": {
              "outlinewidth": 0,
              "ticks": ""
             }
            },
            "type": "scattergl"
           }
          ],
          "scattermapbox": [
           {
            "marker": {
             "colorbar": {
              "outlinewidth": 0,
              "ticks": ""
             }
            },
            "type": "scattermapbox"
           }
          ],
          "scatterpolar": [
           {
            "marker": {
             "colorbar": {
              "outlinewidth": 0,
              "ticks": ""
             }
            },
            "type": "scatterpolar"
           }
          ],
          "scatterpolargl": [
           {
            "marker": {
             "colorbar": {
              "outlinewidth": 0,
              "ticks": ""
             }
            },
            "type": "scatterpolargl"
           }
          ],
          "scatterternary": [
           {
            "marker": {
             "colorbar": {
              "outlinewidth": 0,
              "ticks": ""
             }
            },
            "type": "scatterternary"
           }
          ],
          "surface": [
           {
            "colorbar": {
             "outlinewidth": 0,
             "ticks": ""
            },
            "colorscale": [
             [
              0,
              "#0d0887"
             ],
             [
              0.1111111111111111,
              "#46039f"
             ],
             [
              0.2222222222222222,
              "#7201a8"
             ],
             [
              0.3333333333333333,
              "#9c179e"
             ],
             [
              0.4444444444444444,
              "#bd3786"
             ],
             [
              0.5555555555555556,
              "#d8576b"
             ],
             [
              0.6666666666666666,
              "#ed7953"
             ],
             [
              0.7777777777777778,
              "#fb9f3a"
             ],
             [
              0.8888888888888888,
              "#fdca26"
             ],
             [
              1,
              "#f0f921"
             ]
            ],
            "type": "surface"
           }
          ],
          "table": [
           {
            "cells": {
             "fill": {
              "color": "#EBF0F8"
             },
             "line": {
              "color": "white"
             }
            },
            "header": {
             "fill": {
              "color": "#C8D4E3"
             },
             "line": {
              "color": "white"
             }
            },
            "type": "table"
           }
          ]
         },
         "layout": {
          "annotationdefaults": {
           "arrowcolor": "#2a3f5f",
           "arrowhead": 0,
           "arrowwidth": 1
          },
          "autotypenumbers": "strict",
          "coloraxis": {
           "colorbar": {
            "outlinewidth": 0,
            "ticks": ""
           }
          },
          "colorscale": {
           "diverging": [
            [
             0,
             "#8e0152"
            ],
            [
             0.1,
             "#c51b7d"
            ],
            [
             0.2,
             "#de77ae"
            ],
            [
             0.3,
             "#f1b6da"
            ],
            [
             0.4,
             "#fde0ef"
            ],
            [
             0.5,
             "#f7f7f7"
            ],
            [
             0.6,
             "#e6f5d0"
            ],
            [
             0.7,
             "#b8e186"
            ],
            [
             0.8,
             "#7fbc41"
            ],
            [
             0.9,
             "#4d9221"
            ],
            [
             1,
             "#276419"
            ]
           ],
           "sequential": [
            [
             0,
             "#0d0887"
            ],
            [
             0.1111111111111111,
             "#46039f"
            ],
            [
             0.2222222222222222,
             "#7201a8"
            ],
            [
             0.3333333333333333,
             "#9c179e"
            ],
            [
             0.4444444444444444,
             "#bd3786"
            ],
            [
             0.5555555555555556,
             "#d8576b"
            ],
            [
             0.6666666666666666,
             "#ed7953"
            ],
            [
             0.7777777777777778,
             "#fb9f3a"
            ],
            [
             0.8888888888888888,
             "#fdca26"
            ],
            [
             1,
             "#f0f921"
            ]
           ],
           "sequentialminus": [
            [
             0,
             "#0d0887"
            ],
            [
             0.1111111111111111,
             "#46039f"
            ],
            [
             0.2222222222222222,
             "#7201a8"
            ],
            [
             0.3333333333333333,
             "#9c179e"
            ],
            [
             0.4444444444444444,
             "#bd3786"
            ],
            [
             0.5555555555555556,
             "#d8576b"
            ],
            [
             0.6666666666666666,
             "#ed7953"
            ],
            [
             0.7777777777777778,
             "#fb9f3a"
            ],
            [
             0.8888888888888888,
             "#fdca26"
            ],
            [
             1,
             "#f0f921"
            ]
           ]
          },
          "colorway": [
           "#636efa",
           "#EF553B",
           "#00cc96",
           "#ab63fa",
           "#FFA15A",
           "#19d3f3",
           "#FF6692",
           "#B6E880",
           "#FF97FF",
           "#FECB52"
          ],
          "font": {
           "color": "#2a3f5f"
          },
          "geo": {
           "bgcolor": "white",
           "lakecolor": "white",
           "landcolor": "#E5ECF6",
           "showlakes": true,
           "showland": true,
           "subunitcolor": "white"
          },
          "hoverlabel": {
           "align": "left"
          },
          "hovermode": "closest",
          "mapbox": {
           "style": "light"
          },
          "paper_bgcolor": "white",
          "plot_bgcolor": "#E5ECF6",
          "polar": {
           "angularaxis": {
            "gridcolor": "white",
            "linecolor": "white",
            "ticks": ""
           },
           "bgcolor": "#E5ECF6",
           "radialaxis": {
            "gridcolor": "white",
            "linecolor": "white",
            "ticks": ""
           }
          },
          "scene": {
           "xaxis": {
            "backgroundcolor": "#E5ECF6",
            "gridcolor": "white",
            "gridwidth": 2,
            "linecolor": "white",
            "showbackground": true,
            "ticks": "",
            "zerolinecolor": "white"
           },
           "yaxis": {
            "backgroundcolor": "#E5ECF6",
            "gridcolor": "white",
            "gridwidth": 2,
            "linecolor": "white",
            "showbackground": true,
            "ticks": "",
            "zerolinecolor": "white"
           },
           "zaxis": {
            "backgroundcolor": "#E5ECF6",
            "gridcolor": "white",
            "gridwidth": 2,
            "linecolor": "white",
            "showbackground": true,
            "ticks": "",
            "zerolinecolor": "white"
           }
          },
          "shapedefaults": {
           "line": {
            "color": "#2a3f5f"
           }
          },
          "ternary": {
           "aaxis": {
            "gridcolor": "white",
            "linecolor": "white",
            "ticks": ""
           },
           "baxis": {
            "gridcolor": "white",
            "linecolor": "white",
            "ticks": ""
           },
           "bgcolor": "#E5ECF6",
           "caxis": {
            "gridcolor": "white",
            "linecolor": "white",
            "ticks": ""
           }
          },
          "title": {
           "x": 0.05
          },
          "xaxis": {
           "automargin": true,
           "gridcolor": "white",
           "linecolor": "white",
           "ticks": "",
           "title": {
            "standoff": 15
           },
           "zerolinecolor": "white",
           "zerolinewidth": 2
          },
          "yaxis": {
           "automargin": true,
           "gridcolor": "white",
           "linecolor": "white",
           "ticks": "",
           "title": {
            "standoff": 15
           },
           "zerolinecolor": "white",
           "zerolinewidth": 2
          }
         }
        },
        "title": {
         "text": "Yield Curves"
        }
       }
      },
      "text/html": [
       "<div>                            <div id=\"8843df6e-4656-465d-9e9a-c16f24d7ce5b\" class=\"plotly-graph-div\" style=\"height:525px; width:100%;\"></div>            <script type=\"text/javascript\">                require([\"plotly\"], function(Plotly) {                    window.PLOTLYENV=window.PLOTLYENV || {};                                    if (document.getElementById(\"8843df6e-4656-465d-9e9a-c16f24d7ce5b\")) {                    Plotly.newPlot(                        \"8843df6e-4656-465d-9e9a-c16f24d7ce5b\",                        [{\"x\":[\"1 Mo\",\"3 Mo\",\"6 Mo\",\"1 Yr\",\"2 Yr\",\"3 Yr\",\"5 Yr\",\"7 Yr\",\"10 Yr\",\"20 Yr\",\"30 Yr\"],\"y\":[\"2022-01-03T00:00:00\",\"2022-01-04T00:00:00\",\"2022-01-05T00:00:00\",\"2022-01-06T00:00:00\",\"2022-01-07T00:00:00\",\"2022-01-10T00:00:00\",\"2022-01-11T00:00:00\",\"2022-01-12T00:00:00\",\"2022-01-13T00:00:00\",\"2022-01-14T00:00:00\",\"2022-01-18T00:00:00\",\"2022-01-19T00:00:00\",\"2022-01-20T00:00:00\",\"2022-01-21T00:00:00\",\"2022-01-24T00:00:00\",\"2022-01-25T00:00:00\",\"2022-01-26T00:00:00\",\"2022-01-27T00:00:00\",\"2022-01-28T00:00:00\",\"2022-01-31T00:00:00\",\"2022-02-01T00:00:00\",\"2022-02-02T00:00:00\",\"2022-02-03T00:00:00\",\"2022-02-04T00:00:00\",\"2022-02-07T00:00:00\",\"2022-02-08T00:00:00\",\"2022-02-09T00:00:00\",\"2022-02-10T00:00:00\",\"2022-02-11T00:00:00\",\"2022-02-14T00:00:00\",\"2022-02-15T00:00:00\",\"2022-02-16T00:00:00\",\"2022-02-17T00:00:00\",\"2022-02-18T00:00:00\",\"2022-02-22T00:00:00\",\"2022-02-23T00:00:00\",\"2022-02-24T00:00:00\",\"2022-02-25T00:00:00\",\"2022-02-28T00:00:00\",\"2022-03-01T00:00:00\",\"2022-03-02T00:00:00\",\"2022-03-03T00:00:00\",\"2022-03-04T00:00:00\",\"2022-03-07T00:00:00\",\"2022-03-08T00:00:00\",\"2022-03-09T00:00:00\",\"2022-03-10T00:00:00\",\"2022-03-11T00:00:00\",\"2022-03-14T00:00:00\",\"2022-03-15T00:00:00\",\"2022-03-16T00:00:00\",\"2022-03-17T00:00:00\",\"2022-03-18T00:00:00\",\"2022-03-21T00:00:00\",\"2022-03-22T00:00:00\",\"2022-03-23T00:00:00\",\"2022-03-24T00:00:00\",\"2022-03-25T00:00:00\",\"2022-03-28T00:00:00\",\"2022-03-29T00:00:00\",\"2022-03-30T00:00:00\",\"2022-03-31T00:00:00\",\"2022-04-01T00:00:00\",\"2022-04-04T00:00:00\",\"2022-04-05T00:00:00\",\"2022-04-06T00:00:00\",\"2022-04-07T00:00:00\",\"2022-04-08T00:00:00\",\"2022-04-11T00:00:00\",\"2022-04-12T00:00:00\",\"2022-04-13T00:00:00\",\"2022-04-14T00:00:00\",\"2022-04-18T00:00:00\",\"2022-04-19T00:00:00\",\"2022-04-20T00:00:00\",\"2022-04-21T00:00:00\",\"2022-04-22T00:00:00\",\"2022-04-25T00:00:00\",\"2022-04-26T00:00:00\",\"2022-04-27T00:00:00\",\"2022-04-28T00:00:00\",\"2022-04-29T00:00:00\",\"2022-05-02T00:00:00\",\"2022-05-03T00:00:00\",\"2022-05-04T00:00:00\",\"2022-05-05T00:00:00\",\"2022-05-06T00:00:00\",\"2022-05-09T00:00:00\",\"2022-05-10T00:00:00\",\"2022-05-11T00:00:00\",\"2022-05-12T00:00:00\",\"2022-05-13T00:00:00\",\"2022-05-16T00:00:00\",\"2022-05-17T00:00:00\",\"2022-05-18T00:00:00\",\"2022-05-19T00:00:00\",\"2022-05-20T00:00:00\",\"2022-05-23T00:00:00\",\"2022-05-24T00:00:00\",\"2022-05-25T00:00:00\",\"2022-05-26T00:00:00\",\"2022-05-27T00:00:00\",\"2022-05-31T00:00:00\",\"2022-06-01T00:00:00\",\"2022-06-02T00:00:00\",\"2022-06-03T00:00:00\",\"2022-06-06T00:00:00\",\"2022-06-07T00:00:00\",\"2022-06-08T00:00:00\",\"2022-06-09T00:00:00\",\"2022-06-10T00:00:00\",\"2022-06-13T00:00:00\",\"2022-06-14T00:00:00\",\"2022-06-15T00:00:00\",\"2022-06-16T00:00:00\",\"2022-06-17T00:00:00\",\"2022-06-21T00:00:00\",\"2022-06-22T00:00:00\",\"2022-06-23T00:00:00\",\"2022-06-24T00:00:00\",\"2022-06-27T00:00:00\",\"2022-06-28T00:00:00\",\"2022-06-29T00:00:00\",\"2022-06-30T00:00:00\",\"2022-07-01T00:00:00\",\"2022-07-05T00:00:00\",\"2022-07-06T00:00:00\",\"2022-07-07T00:00:00\",\"2022-07-08T00:00:00\",\"2022-07-11T00:00:00\",\"2022-07-12T00:00:00\",\"2022-07-13T00:00:00\",\"2022-07-14T00:00:00\",\"2022-07-15T00:00:00\",\"2022-07-18T00:00:00\",\"2022-07-19T00:00:00\",\"2022-07-20T00:00:00\",\"2022-07-21T00:00:00\",\"2022-07-22T00:00:00\",\"2022-07-25T00:00:00\",\"2022-07-26T00:00:00\",\"2022-07-27T00:00:00\"],\"z\":[[0.05,0.08,0.22,0.4,0.78,1.04,1.37,1.55,1.63,2.05,2.01],[0.06,0.08,0.22,0.38,0.77,1.02,1.37,1.57,1.66,2.1,2.07],[0.05,0.09,0.22,0.41,0.83,1.1,1.43,1.62,1.71,2.12,2.09],[0.04,0.1,0.23,0.45,0.88,1.15,1.47,1.66,1.73,2.12,2.09],[0.05,0.1,0.24,0.43,0.87,1.17,1.5,1.69,1.76,2.15,2.11],[0.05,0.13,0.28,0.46,0.92,1.21,1.53,1.71,1.78,2.15,2.11],[0.04,0.11,0.28,0.46,0.9,1.22,1.51,1.69,1.75,2.13,2.08],[0.04,0.12,0.27,0.48,0.92,1.21,1.5,1.67,1.74,2.13,2.08],[0.05,0.12,0.28,0.47,0.91,1.18,1.47,1.64,1.7,2.1,2.05],[0.05,0.13,0.3,0.51,0.99,1.26,1.55,1.72,1.78,2.18,2.12],[0.05,0.16,0.37,0.58,1.06,1.35,1.65,1.82,1.87,2.24,2.18],[0.05,0.17,0.36,0.57,1.04,1.33,1.62,1.78,1.83,2.2,2.14],[0.05,0.17,0.36,0.6,1.08,1.34,1.62,1.77,1.83,2.19,2.14],[0.05,0.17,0.35,0.58,1.01,1.28,1.54,1.7,1.75,2.13,2.07],[0.05,0.19,0.39,0.58,0.99,1.25,1.53,1.69,1.75,2.15,2.1],[0.05,0.19,0.39,0.65,1.02,1.28,1.56,1.73,1.78,2.18,2.12],[0.06,0.19,0.4,0.7,1.13,1.39,1.66,1.81,1.85,2.22,2.16],[0.04,0.2,0.43,0.75,1.18,1.43,1.66,1.78,1.81,2.17,2.09],[0.04,0.19,0.43,0.75,1.15,1.38,1.61,1.74,1.78,2.14,2.07],[0.03,0.22,0.49,0.78,1.18,1.39,1.62,1.75,1.79,2.17,2.11],[0.04,0.19,0.48,0.78,1.18,1.39,1.63,1.76,1.81,2.19,2.12],[0.04,0.19,0.45,0.76,1.16,1.38,1.6,1.74,1.78,2.17,2.11],[0.03,0.2,0.48,0.78,1.19,1.42,1.66,1.78,1.82,2.2,2.14],[0.05,0.23,0.56,0.89,1.31,1.55,1.78,1.9,1.93,2.29,2.23],[0.03,0.27,0.58,0.88,1.3,1.54,1.76,1.88,1.92,2.28,2.22],[0.03,0.25,0.59,0.91,1.35,1.59,1.81,1.93,1.96,2.31,2.25],[0.04,0.26,0.57,0.91,1.36,1.61,1.82,1.92,1.94,2.31,2.25],[0.05,0.4,0.74,1.14,1.61,1.82,1.96,2.03,2.03,2.37,2.3],[0.03,0.36,0.71,1.07,1.5,1.71,1.84,1.92,1.92,2.3,2.24],[0.03,0.43,0.76,1.13,1.58,1.8,1.9,1.98,1.98,2.35,2.29],[0.02,0.4,0.72,1.11,1.58,1.8,1.94,2.03,2.05,2.42,2.37],[0.03,0.38,0.67,1.09,1.52,1.75,1.9,2.0,2.03,2.39,2.34],[0.06,0.36,0.65,1.05,1.49,1.7,1.85,1.94,1.97,2.35,2.31],[0.03,0.35,0.65,1.03,1.47,1.68,1.82,1.9,1.92,2.3,2.24],[0.03,0.37,0.73,1.17,1.56,1.74,1.85,1.93,1.94,2.31,2.24],[0.02,0.34,0.74,1.16,1.58,1.78,1.89,1.98,1.99,2.36,2.29],[0.05,0.32,0.65,1.08,1.54,1.73,1.84,1.94,1.96,2.36,2.28],[0.03,0.33,0.71,1.13,1.55,1.76,1.86,1.96,1.97,2.37,2.29],[0.06,0.35,0.69,1.01,1.44,1.62,1.71,1.81,1.83,2.25,2.17],[0.11,0.32,0.6,0.91,1.31,1.47,1.56,1.67,1.72,2.19,2.11],[0.13,0.34,0.68,1.06,1.5,1.67,1.74,1.83,1.86,2.32,2.24],[0.19,0.38,0.69,1.08,1.53,1.69,1.74,1.82,1.86,2.32,2.24],[0.15,0.34,0.69,1.05,1.5,1.62,1.65,1.7,1.74,2.23,2.16],[0.17,0.38,0.75,1.07,1.55,1.68,1.71,1.77,1.78,2.29,2.19],[0.16,0.36,0.72,1.12,1.63,1.78,1.8,1.85,1.86,2.34,2.24],[0.18,0.38,0.75,1.15,1.68,1.83,1.87,1.92,1.94,2.38,2.29],[0.19,0.39,0.75,1.19,1.72,1.88,1.92,1.98,1.98,2.45,2.38],[0.17,0.4,0.78,1.22,1.75,1.91,1.96,2.01,2.0,2.45,2.36],[0.23,0.45,0.86,1.28,1.87,2.04,2.1,2.16,2.14,2.56,2.47],[0.22,0.46,0.86,1.28,1.85,2.04,2.1,2.16,2.15,2.57,2.49],[0.24,0.44,0.86,1.35,1.95,2.14,2.18,2.22,2.19,2.56,2.46],[0.2,0.4,0.81,1.3,1.94,2.14,2.17,2.22,2.2,2.6,2.5],[0.19,0.42,0.83,1.29,1.97,2.15,2.14,2.17,2.14,2.53,2.42],[0.22,0.54,0.95,1.4,2.14,2.34,2.33,2.36,2.32,2.67,2.55],[0.2,0.51,0.96,1.59,2.18,2.38,2.39,2.42,2.38,2.71,2.6],[0.15,0.5,0.93,1.52,2.13,2.32,2.34,2.37,2.32,2.65,2.52],[0.16,0.52,0.96,1.55,2.13,2.35,2.37,2.39,2.34,2.63,2.51],[0.17,0.55,1.01,1.67,2.3,2.51,2.55,2.56,2.48,2.74,2.6],[0.19,0.59,1.08,1.69,2.35,2.55,2.54,2.55,2.46,2.72,2.57],[0.18,0.55,1.06,1.67,2.35,2.54,2.49,2.5,2.41,2.68,2.53],[0.16,0.55,1.04,1.64,2.31,2.49,2.44,2.43,2.35,2.63,2.48],[0.17,0.52,1.06,1.63,2.28,2.45,2.42,2.4,2.32,2.59,2.44],[0.15,0.53,1.09,1.72,2.44,2.61,2.55,2.5,2.39,2.6,2.44],[0.18,0.66,1.14,1.72,2.43,2.61,2.56,2.52,2.42,2.64,2.48],[0.18,0.65,1.13,1.77,2.51,2.69,2.69,2.65,2.54,2.74,2.57],[0.21,0.67,1.15,1.79,2.5,2.67,2.7,2.69,2.61,2.81,2.63],[0.21,0.68,1.15,1.78,2.47,2.66,2.7,2.73,2.66,2.87,2.69],[0.2,0.7,1.19,1.81,2.53,2.73,2.76,2.79,2.72,2.94,2.76],[0.22,0.77,1.23,1.85,2.5,2.73,2.79,2.84,2.79,3.02,2.84],[0.21,0.74,1.2,1.77,2.39,2.58,2.66,2.73,2.72,2.99,2.82],[0.26,0.75,1.2,1.78,2.37,2.57,2.66,2.71,2.7,2.97,2.81],[0.37,0.79,1.25,1.84,2.47,2.67,2.79,2.84,2.83,3.09,2.92],[0.38,0.81,1.27,1.84,2.46,2.68,2.79,2.85,2.85,3.12,2.95],[0.37,0.81,1.28,1.94,2.61,2.81,2.91,2.95,2.93,3.19,3.01],[0.35,0.82,1.29,1.93,2.6,2.79,2.87,2.88,2.85,3.08,2.9],[0.5,0.83,1.32,2.01,2.68,2.87,2.96,2.96,2.9,3.12,2.94],[0.46,0.83,1.34,2.06,2.72,2.88,2.94,2.95,2.9,3.14,2.95],[0.4,0.91,1.42,2.03,2.63,2.79,2.84,2.85,2.81,3.06,2.88],[0.38,0.83,1.4,1.99,2.54,2.72,2.79,2.8,2.77,3.03,2.86],[0.37,0.82,1.39,1.97,2.58,2.75,2.81,2.84,2.82,3.08,2.91],[0.37,0.82,1.38,2.04,2.63,2.8,2.86,2.88,2.85,3.1,2.92],[0.37,0.85,1.41,2.1,2.7,2.87,2.92,2.94,2.89,3.14,2.96],[0.41,0.9,1.49,2.1,2.73,2.93,3.01,3.04,2.99,3.26,3.07],[0.48,0.91,1.45,2.16,2.78,2.95,3.01,3.03,2.97,3.21,3.03],[0.49,0.89,1.44,2.07,2.66,2.85,2.93,2.97,2.93,3.21,3.01],[0.49,0.85,1.37,2.08,2.71,2.91,3.01,3.07,3.05,3.35,3.15],[0.48,0.85,1.41,2.08,2.72,2.94,3.06,3.13,3.12,3.43,3.23],[0.51,0.92,1.43,1.99,2.61,2.81,2.95,3.04,3.05,3.38,3.19],[0.57,0.89,1.44,2.01,2.62,2.81,2.91,2.99,2.99,3.31,3.12],[0.59,0.91,1.43,1.99,2.66,2.81,2.89,2.94,2.91,3.25,3.05],[0.61,0.96,1.44,1.96,2.56,2.73,2.81,2.86,2.84,3.22,3.0],[0.67,1.03,1.47,2.04,2.61,2.79,2.89,2.95,2.93,3.32,3.1],[0.64,1.07,1.54,2.07,2.58,2.75,2.83,2.89,2.88,3.3,3.09],[0.61,1.06,1.57,2.16,2.71,2.89,2.96,3.0,2.98,3.36,3.17],[0.56,1.03,1.56,2.16,2.68,2.84,2.89,2.91,2.89,3.24,3.07],[0.65,1.05,1.52,2.11,2.63,2.78,2.84,2.87,2.84,3.24,3.05],[0.63,1.03,1.51,2.07,2.6,2.73,2.8,2.82,2.78,3.17,2.99],[0.55,1.07,1.57,2.09,2.65,2.8,2.88,2.9,2.86,3.26,3.08],[0.55,1.06,1.53,2.02,2.5,2.66,2.76,2.8,2.76,3.16,2.98],[0.58,1.06,1.52,2.01,2.48,2.63,2.71,2.76,2.75,3.14,2.97],[0.71,1.07,1.52,1.99,2.46,2.63,2.7,2.75,2.75,3.18,2.99],[0.69,1.08,1.54,2.01,2.47,2.64,2.71,2.76,2.74,3.16,2.97],[0.73,1.16,1.64,2.08,2.53,2.71,2.81,2.87,2.85,3.28,3.07],[0.77,1.15,1.63,2.16,2.66,2.84,2.94,2.98,2.94,3.31,3.09],[0.85,1.17,1.64,2.15,2.65,2.83,2.92,2.95,2.92,3.3,3.09],[0.87,1.21,1.68,2.18,2.66,2.87,2.95,2.99,2.96,3.33,3.11],[0.88,1.26,1.74,2.23,2.73,2.94,3.03,3.07,3.04,3.41,3.19],[0.87,1.26,1.75,2.26,2.75,2.91,2.99,3.02,2.98,3.35,3.13],[0.89,1.28,1.77,2.29,2.78,2.94,3.03,3.06,3.03,3.4,3.18],[1.05,1.3,1.81,2.35,2.83,2.99,3.07,3.08,3.04,3.4,3.18],[1.1,1.39,1.98,2.58,3.06,3.21,3.25,3.24,3.15,3.45,3.2],[1.13,1.73,2.25,2.89,3.4,3.56,3.56,3.53,3.43,3.68,3.42],[1.19,1.83,2.43,3.15,3.45,3.6,3.61,3.6,3.49,3.72,3.45],[1.21,1.74,2.32,2.93,3.2,3.35,3.38,3.39,3.33,3.64,3.39],[1.19,1.59,2.24,2.88,3.14,3.33,3.35,3.36,3.28,3.59,3.35],[1.15,1.63,2.25,2.86,3.17,3.35,3.34,3.34,3.25,3.55,3.3],[1.08,1.7,2.46,2.92,3.21,3.35,3.38,3.39,3.31,3.63,3.39],[0.98,1.61,2.4,2.79,3.06,3.2,3.22,3.24,3.16,3.49,3.25],[1.12,1.65,2.44,2.78,3.01,3.12,3.14,3.16,3.09,3.45,3.21],[1.19,1.73,2.51,2.83,3.04,3.13,3.18,3.19,3.13,3.51,3.26],[1.16,1.79,2.56,2.89,3.08,3.21,3.24,3.27,3.2,3.56,3.31],[1.12,1.79,2.55,2.88,3.1,3.21,3.25,3.27,3.2,3.55,3.3],[1.12,1.78,2.55,2.88,3.06,3.13,3.15,3.17,3.1,3.46,3.22],[1.28,1.72,2.51,2.8,2.92,2.99,3.01,3.04,2.98,3.38,3.14],[1.27,1.73,2.52,2.79,2.84,2.85,2.88,2.92,2.88,3.35,3.11],[1.33,1.9,2.59,2.77,2.82,2.82,2.82,2.87,2.82,3.31,3.05],[1.36,1.9,2.62,2.82,2.97,2.99,2.96,2.99,2.93,3.42,3.14],[1.55,1.95,2.64,2.87,3.03,3.05,3.05,3.07,3.01,3.45,3.2],[1.57,1.98,2.68,2.96,3.12,3.14,3.13,3.16,3.09,3.53,3.27],[1.58,2.18,2.79,2.97,3.07,3.09,3.05,3.06,2.99,3.43,3.18],[1.63,2.22,2.78,3.07,3.03,3.07,3.01,3.01,2.96,3.37,3.13],[1.78,2.39,2.96,3.21,3.13,3.14,3.02,3.0,2.91,3.35,3.08],[1.99,2.4,2.93,3.16,3.15,3.16,3.06,3.05,2.96,3.36,3.11],[1.98,2.37,2.94,3.12,3.13,3.14,3.05,3.03,2.93,3.34,3.1],[1.96,2.5,3.02,3.13,3.15,3.15,3.06,3.05,2.96,3.39,3.14],[1.93,2.52,3.06,3.18,3.23,3.22,3.14,3.11,3.01,3.42,3.17],[1.92,2.51,3.04,3.18,3.25,3.25,3.18,3.15,3.04,3.43,3.17],[2.15,2.48,3.0,3.11,3.1,3.07,3.0,2.99,2.91,3.33,3.08],[2.15,2.49,2.97,3.01,2.98,2.93,2.87,2.85,2.77,3.23,3.0],[2.14,2.62,3.06,3.07,3.0,2.98,2.89,2.89,2.81,3.28,3.04],[2.17,2.55,3.01,3.06,3.02,3.01,2.89,2.88,2.81,3.27,3.03],[2.14,2.44,2.93,3.0,2.96,2.93,2.82,2.83,2.78,3.26,3.03]],\"type\":\"surface\"}],                        {\"template\":{\"data\":{\"histogram2dcontour\":[{\"type\":\"histogram2dcontour\",\"colorbar\":{\"outlinewidth\":0,\"ticks\":\"\"},\"colorscale\":[[0.0,\"#0d0887\"],[0.1111111111111111,\"#46039f\"],[0.2222222222222222,\"#7201a8\"],[0.3333333333333333,\"#9c179e\"],[0.4444444444444444,\"#bd3786\"],[0.5555555555555556,\"#d8576b\"],[0.6666666666666666,\"#ed7953\"],[0.7777777777777778,\"#fb9f3a\"],[0.8888888888888888,\"#fdca26\"],[1.0,\"#f0f921\"]]}],\"choropleth\":[{\"type\":\"choropleth\",\"colorbar\":{\"outlinewidth\":0,\"ticks\":\"\"}}],\"histogram2d\":[{\"type\":\"histogram2d\",\"colorbar\":{\"outlinewidth\":0,\"ticks\":\"\"},\"colorscale\":[[0.0,\"#0d0887\"],[0.1111111111111111,\"#46039f\"],[0.2222222222222222,\"#7201a8\"],[0.3333333333333333,\"#9c179e\"],[0.4444444444444444,\"#bd3786\"],[0.5555555555555556,\"#d8576b\"],[0.6666666666666666,\"#ed7953\"],[0.7777777777777778,\"#fb9f3a\"],[0.8888888888888888,\"#fdca26\"],[1.0,\"#f0f921\"]]}],\"heatmap\":[{\"type\":\"heatmap\",\"colorbar\":{\"outlinewidth\":0,\"ticks\":\"\"},\"colorscale\":[[0.0,\"#0d0887\"],[0.1111111111111111,\"#46039f\"],[0.2222222222222222,\"#7201a8\"],[0.3333333333333333,\"#9c179e\"],[0.4444444444444444,\"#bd3786\"],[0.5555555555555556,\"#d8576b\"],[0.6666666666666666,\"#ed7953\"],[0.7777777777777778,\"#fb9f3a\"],[0.8888888888888888,\"#fdca26\"],[1.0,\"#f0f921\"]]}],\"heatmapgl\":[{\"type\":\"heatmapgl\",\"colorbar\":{\"outlinewidth\":0,\"ticks\":\"\"},\"colorscale\":[[0.0,\"#0d0887\"],[0.1111111111111111,\"#46039f\"],[0.2222222222222222,\"#7201a8\"],[0.3333333333333333,\"#9c179e\"],[0.4444444444444444,\"#bd3786\"],[0.5555555555555556,\"#d8576b\"],[0.6666666666666666,\"#ed7953\"],[0.7777777777777778,\"#fb9f3a\"],[0.8888888888888888,\"#fdca26\"],[1.0,\"#f0f921\"]]}],\"contourcarpet\":[{\"type\":\"contourcarpet\",\"colorbar\":{\"outlinewidth\":0,\"ticks\":\"\"}}],\"contour\":[{\"type\":\"contour\",\"colorbar\":{\"outlinewidth\":0,\"ticks\":\"\"},\"colorscale\":[[0.0,\"#0d0887\"],[0.1111111111111111,\"#46039f\"],[0.2222222222222222,\"#7201a8\"],[0.3333333333333333,\"#9c179e\"],[0.4444444444444444,\"#bd3786\"],[0.5555555555555556,\"#d8576b\"],[0.6666666666666666,\"#ed7953\"],[0.7777777777777778,\"#fb9f3a\"],[0.8888888888888888,\"#fdca26\"],[1.0,\"#f0f921\"]]}],\"surface\":[{\"type\":\"surface\",\"colorbar\":{\"outlinewidth\":0,\"ticks\":\"\"},\"colorscale\":[[0.0,\"#0d0887\"],[0.1111111111111111,\"#46039f\"],[0.2222222222222222,\"#7201a8\"],[0.3333333333333333,\"#9c179e\"],[0.4444444444444444,\"#bd3786\"],[0.5555555555555556,\"#d8576b\"],[0.6666666666666666,\"#ed7953\"],[0.7777777777777778,\"#fb9f3a\"],[0.8888888888888888,\"#fdca26\"],[1.0,\"#f0f921\"]]}],\"mesh3d\":[{\"type\":\"mesh3d\",\"colorbar\":{\"outlinewidth\":0,\"ticks\":\"\"}}],\"scatter\":[{\"fillpattern\":{\"fillmode\":\"overlay\",\"size\":10,\"solidity\":0.2},\"type\":\"scatter\"}],\"parcoords\":[{\"type\":\"parcoords\",\"line\":{\"colorbar\":{\"outlinewidth\":0,\"ticks\":\"\"}}}],\"scatterpolargl\":[{\"type\":\"scatterpolargl\",\"marker\":{\"colorbar\":{\"outlinewidth\":0,\"ticks\":\"\"}}}],\"bar\":[{\"error_x\":{\"color\":\"#2a3f5f\"},\"error_y\":{\"color\":\"#2a3f5f\"},\"marker\":{\"line\":{\"color\":\"#E5ECF6\",\"width\":0.5},\"pattern\":{\"fillmode\":\"overlay\",\"size\":10,\"solidity\":0.2}},\"type\":\"bar\"}],\"scattergeo\":[{\"type\":\"scattergeo\",\"marker\":{\"colorbar\":{\"outlinewidth\":0,\"ticks\":\"\"}}}],\"scatterpolar\":[{\"type\":\"scatterpolar\",\"marker\":{\"colorbar\":{\"outlinewidth\":0,\"ticks\":\"\"}}}],\"histogram\":[{\"marker\":{\"pattern\":{\"fillmode\":\"overlay\",\"size\":10,\"solidity\":0.2}},\"type\":\"histogram\"}],\"scattergl\":[{\"type\":\"scattergl\",\"marker\":{\"colorbar\":{\"outlinewidth\":0,\"ticks\":\"\"}}}],\"scatter3d\":[{\"type\":\"scatter3d\",\"line\":{\"colorbar\":{\"outlinewidth\":0,\"ticks\":\"\"}},\"marker\":{\"colorbar\":{\"outlinewidth\":0,\"ticks\":\"\"}}}],\"scattermapbox\":[{\"type\":\"scattermapbox\",\"marker\":{\"colorbar\":{\"outlinewidth\":0,\"ticks\":\"\"}}}],\"scatterternary\":[{\"type\":\"scatterternary\",\"marker\":{\"colorbar\":{\"outlinewidth\":0,\"ticks\":\"\"}}}],\"scattercarpet\":[{\"type\":\"scattercarpet\",\"marker\":{\"colorbar\":{\"outlinewidth\":0,\"ticks\":\"\"}}}],\"carpet\":[{\"aaxis\":{\"endlinecolor\":\"#2a3f5f\",\"gridcolor\":\"white\",\"linecolor\":\"white\",\"minorgridcolor\":\"white\",\"startlinecolor\":\"#2a3f5f\"},\"baxis\":{\"endlinecolor\":\"#2a3f5f\",\"gridcolor\":\"white\",\"linecolor\":\"white\",\"minorgridcolor\":\"white\",\"startlinecolor\":\"#2a3f5f\"},\"type\":\"carpet\"}],\"table\":[{\"cells\":{\"fill\":{\"color\":\"#EBF0F8\"},\"line\":{\"color\":\"white\"}},\"header\":{\"fill\":{\"color\":\"#C8D4E3\"},\"line\":{\"color\":\"white\"}},\"type\":\"table\"}],\"barpolar\":[{\"marker\":{\"line\":{\"color\":\"#E5ECF6\",\"width\":0.5},\"pattern\":{\"fillmode\":\"overlay\",\"size\":10,\"solidity\":0.2}},\"type\":\"barpolar\"}],\"pie\":[{\"automargin\":true,\"type\":\"pie\"}]},\"layout\":{\"autotypenumbers\":\"strict\",\"colorway\":[\"#636efa\",\"#EF553B\",\"#00cc96\",\"#ab63fa\",\"#FFA15A\",\"#19d3f3\",\"#FF6692\",\"#B6E880\",\"#FF97FF\",\"#FECB52\"],\"font\":{\"color\":\"#2a3f5f\"},\"hovermode\":\"closest\",\"hoverlabel\":{\"align\":\"left\"},\"paper_bgcolor\":\"white\",\"plot_bgcolor\":\"#E5ECF6\",\"polar\":{\"bgcolor\":\"#E5ECF6\",\"angularaxis\":{\"gridcolor\":\"white\",\"linecolor\":\"white\",\"ticks\":\"\"},\"radialaxis\":{\"gridcolor\":\"white\",\"linecolor\":\"white\",\"ticks\":\"\"}},\"ternary\":{\"bgcolor\":\"#E5ECF6\",\"aaxis\":{\"gridcolor\":\"white\",\"linecolor\":\"white\",\"ticks\":\"\"},\"baxis\":{\"gridcolor\":\"white\",\"linecolor\":\"white\",\"ticks\":\"\"},\"caxis\":{\"gridcolor\":\"white\",\"linecolor\":\"white\",\"ticks\":\"\"}},\"coloraxis\":{\"colorbar\":{\"outlinewidth\":0,\"ticks\":\"\"}},\"colorscale\":{\"sequential\":[[0.0,\"#0d0887\"],[0.1111111111111111,\"#46039f\"],[0.2222222222222222,\"#7201a8\"],[0.3333333333333333,\"#9c179e\"],[0.4444444444444444,\"#bd3786\"],[0.5555555555555556,\"#d8576b\"],[0.6666666666666666,\"#ed7953\"],[0.7777777777777778,\"#fb9f3a\"],[0.8888888888888888,\"#fdca26\"],[1.0,\"#f0f921\"]],\"sequentialminus\":[[0.0,\"#0d0887\"],[0.1111111111111111,\"#46039f\"],[0.2222222222222222,\"#7201a8\"],[0.3333333333333333,\"#9c179e\"],[0.4444444444444444,\"#bd3786\"],[0.5555555555555556,\"#d8576b\"],[0.6666666666666666,\"#ed7953\"],[0.7777777777777778,\"#fb9f3a\"],[0.8888888888888888,\"#fdca26\"],[1.0,\"#f0f921\"]],\"diverging\":[[0,\"#8e0152\"],[0.1,\"#c51b7d\"],[0.2,\"#de77ae\"],[0.3,\"#f1b6da\"],[0.4,\"#fde0ef\"],[0.5,\"#f7f7f7\"],[0.6,\"#e6f5d0\"],[0.7,\"#b8e186\"],[0.8,\"#7fbc41\"],[0.9,\"#4d9221\"],[1,\"#276419\"]]},\"xaxis\":{\"gridcolor\":\"white\",\"linecolor\":\"white\",\"ticks\":\"\",\"title\":{\"standoff\":15},\"zerolinecolor\":\"white\",\"automargin\":true,\"zerolinewidth\":2},\"yaxis\":{\"gridcolor\":\"white\",\"linecolor\":\"white\",\"ticks\":\"\",\"title\":{\"standoff\":15},\"zerolinecolor\":\"white\",\"automargin\":true,\"zerolinewidth\":2},\"scene\":{\"xaxis\":{\"backgroundcolor\":\"#E5ECF6\",\"gridcolor\":\"white\",\"linecolor\":\"white\",\"showbackground\":true,\"ticks\":\"\",\"zerolinecolor\":\"white\",\"gridwidth\":2},\"yaxis\":{\"backgroundcolor\":\"#E5ECF6\",\"gridcolor\":\"white\",\"linecolor\":\"white\",\"showbackground\":true,\"ticks\":\"\",\"zerolinecolor\":\"white\",\"gridwidth\":2},\"zaxis\":{\"backgroundcolor\":\"#E5ECF6\",\"gridcolor\":\"white\",\"linecolor\":\"white\",\"showbackground\":true,\"ticks\":\"\",\"zerolinecolor\":\"white\",\"gridwidth\":2}},\"shapedefaults\":{\"line\":{\"color\":\"#2a3f5f\"}},\"annotationdefaults\":{\"arrowcolor\":\"#2a3f5f\",\"arrowhead\":0,\"arrowwidth\":1},\"geo\":{\"bgcolor\":\"white\",\"landcolor\":\"#E5ECF6\",\"subunitcolor\":\"white\",\"showland\":true,\"showlakes\":true,\"lakecolor\":\"white\"},\"title\":{\"x\":0.05},\"mapbox\":{\"style\":\"light\"}}},\"scene\":{\"aspectratio\":{\"x\":1,\"y\":1,\"z\":0.4}},\"title\":{\"text\":\"Yield Curves\"}},                        {\"responsive\": true}                    ).then(function(){\n",
       "                            \n",
       "var gd = document.getElementById('8843df6e-4656-465d-9e9a-c16f24d7ce5b');\n",
       "var x = new MutationObserver(function (mutations, observer) {{\n",
       "        var display = window.getComputedStyle(gd).display;\n",
       "        if (!display || display === 'none') {{\n",
       "            console.log([gd, 'removed!']);\n",
       "            Plotly.purge(gd);\n",
       "            observer.disconnect();\n",
       "        }}\n",
       "}});\n",
       "\n",
       "// Listen for the removal of the full notebook cells\n",
       "var notebookContainer = gd.closest('#notebook-container');\n",
       "if (notebookContainer) {{\n",
       "    x.observe(notebookContainer, {childList: true});\n",
       "}}\n",
       "\n",
       "// Listen for the clearing of the current output cell\n",
       "var outputEl = gd.closest('.output');\n",
       "if (outputEl) {{\n",
       "    x.observe(outputEl, {childList: true});\n",
       "}}\n",
       "\n",
       "                        })                };                });            </script>        </div>"
      ]
     },
     "metadata": {},
     "output_type": "display_data"
    }
   ],
   "source": [
    "x = df.columns\n",
    "y = df.index\n",
    "z = df.to_numpy()\n",
    "\n",
    "fig = go.Figure(data=[go.Surface(z=z, x=x, y=y)])\n",
    "fig.update_layout(title='Yield Curves',\n",
    "                  scene = {\"aspectratio\": {\"x\": 1, \"y\": 1, \"z\": 0.4}})\n",
    "fig.show()"
   ]
  },
  {
   "cell_type": "code",
   "execution_count": null,
   "id": "a97817e5-b489-4bd8-a93b-dc96669834fc",
   "metadata": {},
   "outputs": [],
   "source": []
  }
 ],
 "metadata": {
  "kernelspec": {
   "display_name": "Python 3 (ipykernel)",
   "language": "python",
   "name": "python3"
  },
  "language_info": {
   "codemirror_mode": {
    "name": "ipython",
    "version": 3
   },
   "file_extension": ".py",
   "mimetype": "text/x-python",
   "name": "python",
   "nbconvert_exporter": "python",
   "pygments_lexer": "ipython3",
   "version": "3.10.4"
  }
 },
 "nbformat": 4,
 "nbformat_minor": 5
}
